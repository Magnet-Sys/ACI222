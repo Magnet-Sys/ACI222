{
 "cells": [
  {
   "cell_type": "markdown",
   "id": "c782b6f9",
   "metadata": {},
   "source": [
    "# Introducción a Python \n",
    "\n",
    "## Parte práctica\n",
    "\n",
    "Se recomienda ejecutar paso a paso estas celdas para ir repasando Python. Esto será la base para poder avanzar en el curso de análisis de datos, por lo que también puedes agregar código o comentar las celdas para ir practicando y recordando la sintaxis."
   ]
  },
  {
   "cell_type": "markdown",
   "id": "9ee9d416",
   "metadata": {},
   "source": [
    "### El comando \"print ()\"\n",
    "Este comando nos muestra por pantalla lo que le entregamos como argumento. Ejemplo: si queremos ver el texto \"Hola mundo\":"
   ]
  },
  {
   "cell_type": "code",
   "execution_count": 1,
   "id": "9ac717e8",
   "metadata": {},
   "outputs": [
    {
     "name": "stdout",
     "output_type": "stream",
     "text": [
      "Hola mundo\n"
     ]
    }
   ],
   "source": [
    "# Si la línea comienza con \"#\" significa que es un comentario y el interprete no lo ejecutará\n",
    "# Esta línea es un comentario\n",
    "print (\"Hola mundo\")"
   ]
  },
  {
   "cell_type": "code",
   "execution_count": 2,
   "id": "60fd9147",
   "metadata": {},
   "outputs": [
    {
     "name": "stdout",
     "output_type": "stream",
     "text": [
      "hola\n"
     ]
    }
   ],
   "source": [
    "# aca tambien comentario\n",
    "\"\"\"\n",
    "Comentario multilínea:\n",
    "Python\n",
    "lo\n",
    "ignorará\n",
    "\"\"\"\n",
    "print(\"hola\")"
   ]
  },
  {
   "cell_type": "markdown",
   "id": "6a3386d7",
   "metadata": {},
   "source": [
    "### Palabras Reservadas\n",
    "Corresponden a ciertas palabras que poseen un significado predefinido en el lenguaje y por tanto no se pueden utilizar para nombrar variables. Podemos solicitar la lista de palabras reservadas en Python con:"
   ]
  },
  {
   "cell_type": "code",
   "execution_count": 3,
   "id": "c898fff2",
   "metadata": {},
   "outputs": [
    {
     "data": {
      "text/plain": [
       "['False',\n",
       " 'None',\n",
       " 'True',\n",
       " 'and',\n",
       " 'as',\n",
       " 'assert',\n",
       " 'async',\n",
       " 'await',\n",
       " 'break',\n",
       " 'class',\n",
       " 'continue',\n",
       " 'def',\n",
       " 'del',\n",
       " 'elif',\n",
       " 'else',\n",
       " 'except',\n",
       " 'finally',\n",
       " 'for',\n",
       " 'from',\n",
       " 'global',\n",
       " 'if',\n",
       " 'import',\n",
       " 'in',\n",
       " 'is',\n",
       " 'lambda',\n",
       " 'nonlocal',\n",
       " 'not',\n",
       " 'or',\n",
       " 'pass',\n",
       " 'raise',\n",
       " 'return',\n",
       " 'try',\n",
       " 'while',\n",
       " 'with',\n",
       " 'yield']"
      ]
     },
     "execution_count": 3,
     "metadata": {},
     "output_type": "execute_result"
    }
   ],
   "source": [
    "import keyword \n",
    "keyword.kwlist"
   ]
  },
  {
   "cell_type": "markdown",
   "id": "18f3e7aa",
   "metadata": {},
   "source": [
    "### Variables\n",
    "* Las variables tienen un nombre y se le asigna un valor\n",
    "* Pueden ser de distinto tipo dependiendo del valor asignado\n",
    "* Así cada variable corresponde a un **objeto**\n",
    "\n",
    "Veamos algunos ejemplos\n",
    "\n"
   ]
  },
  {
   "cell_type": "code",
   "execution_count": 4,
   "id": "92311d93",
   "metadata": {},
   "outputs": [],
   "source": [
    "soy_un_numero = 22\n",
    "soy_una_variable = \"Repasando Python\""
   ]
  },
  {
   "cell_type": "markdown",
   "id": "071f83a2",
   "metadata": {},
   "source": [
    "El uso de espacios para definir una variable es incorrecto"
   ]
  },
  {
   "cell_type": "code",
   "execution_count": 5,
   "id": "b9770e2e",
   "metadata": {
    "scrolled": true
   },
   "outputs": [
    {
     "ename": "SyntaxError",
     "evalue": "invalid syntax (<ipython-input-5-a8c687868ca8>, line 1)",
     "output_type": "error",
     "traceback": [
      "\u001b[0;36m  File \u001b[0;32m\"<ipython-input-5-a8c687868ca8>\"\u001b[0;36m, line \u001b[0;32m1\u001b[0m\n\u001b[0;31m    una varible = \"Repasando Python\"\u001b[0m\n\u001b[0m        ^\u001b[0m\n\u001b[0;31mSyntaxError\u001b[0m\u001b[0;31m:\u001b[0m invalid syntax\n"
     ]
    }
   ],
   "source": [
    "una varible = \"Repasando Python\""
   ]
  },
  {
   "cell_type": "markdown",
   "id": "b8ac753e",
   "metadata": {},
   "source": [
    "### String\n",
    "Un string es una cadena de caracteres y puede escribirse con comillas simples o dobles"
   ]
  },
  {
   "cell_type": "code",
   "execution_count": 5,
   "id": "25cc23c1",
   "metadata": {},
   "outputs": [
    {
     "name": "stdout",
     "output_type": "stream",
     "text": [
      "Melissa\n",
      "Alegría\n"
     ]
    }
   ],
   "source": [
    "nombre = 'Melissa'\n",
    "apellido = \"Alegría\"\n",
    "print (nombre)\n",
    "print (apellido)\n"
   ]
  },
  {
   "cell_type": "markdown",
   "id": "d3abfb24",
   "metadata": {},
   "source": [
    "\n",
    "Para usar las comillas simples en un print se puede usar comillas simples o dobles, dependiendo de lo que se quiera imprimir"
   ]
  },
  {
   "cell_type": "code",
   "execution_count": 7,
   "id": "445668f5",
   "metadata": {},
   "outputs": [
    {
     "name": "stdout",
     "output_type": "stream",
     "text": [
      "Como la cadena ha sido creada con comillas simples, las comillas dobles (\") aparecerán en el texto sin problema.\n",
      "Como la cadena ha sido creada con comillas dobles, las comillas simples (') aparecerán en el texto sin problema.\n"
     ]
    }
   ],
   "source": [
    "print('Como la cadena ha sido creada con comillas simples, las comillas dobles (\") aparecerán en el texto sin problema.')\n",
    "print(\"Como la cadena ha sido creada con comillas dobles, las comillas simples (') aparecerán en el texto sin problema.\")"
   ]
  },
  {
   "cell_type": "code",
   "execution_count": 8,
   "id": "d23b9ad2",
   "metadata": {},
   "outputs": [
    {
     "ename": "SyntaxError",
     "evalue": "invalid syntax (<ipython-input-8-3610fba06dda>, line 2)",
     "output_type": "error",
     "traceback": [
      "\u001b[0;36m  File \u001b[0;32m\"<ipython-input-8-3610fba06dda>\"\u001b[0;36m, line \u001b[0;32m2\u001b[0m\n\u001b[0;31m    print(\"Como la cadena ha sido creada con comillas simples, las comillas dobles (\") aparecerán en el texto sin problema.\")\u001b[0m\n\u001b[0m                                                                                       ^\u001b[0m\n\u001b[0;31mSyntaxError\u001b[0m\u001b[0;31m:\u001b[0m invalid syntax\n"
     ]
    }
   ],
   "source": [
    "#Esto generará una error\n",
    "print(\"Como la cadena ha sido creada con comillas simples, las comillas dobles (\") aparecerán en el texto sin problema.\")\n",
    "\n"
   ]
  },
  {
   "cell_type": "markdown",
   "id": "febf9efa",
   "metadata": {},
   "source": [
    "En los string se puede emplear los operadores suma (+) y multiplicación (*) para operar con las cadenas de caracteres. Con el primer operador concatenaremos las cadenas que estamos \"sumando\", mientras que con el segundo repetiremos la cadena tantas veces como el número que la multiplica."
   ]
  },
  {
   "cell_type": "code",
   "execution_count": 9,
   "id": "fb4a32ea",
   "metadata": {},
   "outputs": [
    {
     "name": "stdout",
     "output_type": "stream",
     "text": [
      "Mi nombre es Melissa Alegría\n"
     ]
    }
   ],
   "source": [
    "#Concatenar string: Se debe asignar o concatener el espacio que separa los string Ej: string1 + \" \" + string2\n",
    "print (\"Mi nombre es \" + nombre + \" \" + apellido)"
   ]
  },
  {
   "cell_type": "markdown",
   "id": "6727a4e9",
   "metadata": {},
   "source": [
    "Otra forma de obtener la misma salida es por interpolación"
   ]
  },
  {
   "cell_type": "code",
   "execution_count": 11,
   "id": "892db654",
   "metadata": {},
   "outputs": [
    {
     "name": "stdout",
     "output_type": "stream",
     "text": [
      "Mi nombre es Melissa Alegría Arcos\n"
     ]
    }
   ],
   "source": [
    "#Interpolación\n",
    "apellido2 = \"Arcos\"\n",
    "print (\"Mi nombre es {} {} {}\".format(nombre, apellido, apellido2))"
   ]
  },
  {
   "cell_type": "code",
   "execution_count": 12,
   "id": "c89b52b1",
   "metadata": {},
   "outputs": [
    {
     "name": "stdout",
     "output_type": "stream",
     "text": [
      "Mi nombre es Melissa Alegría\n",
      "\n",
      "Mi nombre es Melissa Alegría\n",
      "Mi nombre es Melissa Alegría\n",
      "Mi nombre es Melissa Alegría\n",
      "\n"
     ]
    }
   ],
   "source": [
    "# Además podemos asignar esta concatenación a una variable y repetir esta salida usando multiplcación (*).\n",
    "# Notar que \\n se refiere a un salto de línea\n",
    "saludo = \"Mi nombre es \" + nombre + \" \" + apellido + \"\\n\"\n",
    "print (saludo)\n",
    "print(3*saludo)"
   ]
  },
  {
   "cell_type": "code",
   "execution_count": 17,
   "id": "41e79990",
   "metadata": {},
   "outputs": [
    {
     "name": "stdout",
     "output_type": "stream",
     "text": [
      "2\n"
     ]
    }
   ],
   "source": [
    "# Con variable.count se puede contar cuantas \"s\" tiene el string\n",
    "print(nombre.count(\"s\"))"
   ]
  },
  {
   "cell_type": "code",
   "execution_count": 18,
   "id": "f0a37e6d",
   "metadata": {},
   "outputs": [
    {
     "name": "stdout",
     "output_type": "stream",
     "text": [
      "7\n"
     ]
    }
   ],
   "source": [
    "#Además con len, es posible obtener el largo del string = len(variable)\n",
    "print(len(apellido))"
   ]
  },
  {
   "cell_type": "code",
   "execution_count": 19,
   "id": "86e5063a",
   "metadata": {},
   "outputs": [
    {
     "name": "stdout",
     "output_type": "stream",
     "text": [
      "MELISSA\n"
     ]
    }
   ],
   "source": [
    "# Con upper(), podemos cambiar todo a mayúscula y con lower() todo a minuscula\n",
    "print(nombre.upper())\n"
   ]
  },
  {
   "cell_type": "code",
   "execution_count": 20,
   "id": "b47be604",
   "metadata": {},
   "outputs": [
    {
     "name": "stdout",
     "output_type": "stream",
     "text": [
      "melissa\n"
     ]
    }
   ],
   "source": [
    "print(nombre.lower())"
   ]
  },
  {
   "cell_type": "code",
   "execution_count": 21,
   "id": "3dc0c5b2",
   "metadata": {},
   "outputs": [
    {
     "data": {
      "text/plain": [
       "2"
      ]
     },
     "execution_count": 21,
     "metadata": {},
     "output_type": "execute_result"
    }
   ],
   "source": [
    "cadena3 = nombre + \" \" + apellido\n",
    "cadena3\n",
    "a = cadena3.count(\"a\")\n",
    "a"
   ]
  },
  {
   "cell_type": "markdown",
   "id": "0e3409cb",
   "metadata": {},
   "source": [
    "Empleando las posiciones se puede acceder a los elementos de las cadenas de caracteres. Para ello, siempre hay que tener en cuenta que el primer elemento de la cadena está ubicado en la posición 0."
   ]
  },
  {
   "cell_type": "code",
   "execution_count": 22,
   "id": "214d4484",
   "metadata": {},
   "outputs": [
    {
     "name": "stdout",
     "output_type": "stream",
     "text": [
      "R\n",
      "a\n",
      "t\n",
      "o\n",
      "n\n"
     ]
    }
   ],
   "source": [
    "cadena = 'Repasando Python!'\n",
    "\n",
    "print(cadena[0])\n",
    "print(cadena[3])\n",
    "print(cadena[12])\n",
    "print(cadena[14])\n",
    "print(cadena[15])"
   ]
  },
  {
   "cell_type": "markdown",
   "id": "96597269",
   "metadata": {},
   "source": [
    "## Variables numéricas y operadores\n",
    "### Tipos de Objeto\n",
    "**Integer**: Corresponde a un número entero.\n",
    "\n",
    "**Float**: Corresponde a un número decimal.\n",
    "\n",
    "**Time**: Corresponde a una fecha y hora.\n",
    "\n",
    "**Boolean**: Corresponde a True o False. Son el resultado de una evaluación.\n",
    "\n",
    "**None**: corresponde a la ausencia de un valor."
   ]
  },
  {
   "cell_type": "code",
   "execution_count": 25,
   "id": "f077876e",
   "metadata": {},
   "outputs": [
    {
     "name": "stdout",
     "output_type": "stream",
     "text": [
      "5\n",
      "1.6\n"
     ]
    }
   ],
   "source": [
    "entero = 5\n",
    "flotante = 1.6\n",
    "\n",
    "print(entero)\n",
    "print(flotante)"
   ]
  },
  {
   "cell_type": "markdown",
   "id": "5d5dd8bd",
   "metadata": {},
   "source": [
    "Se puede operar con los dos tipos de variables utilizando los operadores suma (+), resta (-), multiplicación (*) y división (/). Debemos tener en cuenta que el resultado de cualquier operación realizada con variables flotantes será otra variable flotante. El resultado de cualquier operación realizada con variables enteras, será otra variable entera, a excepción de la división, que será flotante."
   ]
  },
  {
   "cell_type": "markdown",
   "id": "c077bbc7",
   "metadata": {},
   "source": [
    "Operador | Nombre\n",
    ":--------: | -------\n",
    "+ | Suma\n",
    "- | Resta  \n",
    "* | Multiplicación\n",
    "/ | División\n",
    "**  | Potencia\n",
    "%  | Módulo o residuo de división\n",
    "// | división entera\n",
    "\n",
    "Recordar el orden de las operaciones, primero las **potencias** luego **multiplicacion** o **division** o **módulo** y finalmente **suma** o **resta**\n",
    "\n"
   ]
  },
  {
   "cell_type": "code",
   "execution_count": 28,
   "id": "c7e8fe50",
   "metadata": {
    "scrolled": true
   },
   "outputs": [
    {
     "name": "stdout",
     "output_type": "stream",
     "text": [
      "15\n",
      "-5\n",
      "50\n",
      "2.0\n",
      "\n",
      "\n",
      "15.0\n",
      "-5.0\n",
      "50.0\n",
      "2.0\n"
     ]
    }
   ],
   "source": [
    "int1 = 5\n",
    "int2 = 10\n",
    "float1 = 5.0\n",
    "float2 = 10.0\n",
    "\n",
    "print(int1 + int2)\n",
    "print(int1 - int2)\n",
    "print(int1 * int2)\n",
    "print(int2 / int1)\n",
    "print('\\n')\n",
    "print(float1 + float2)\n",
    "print(float1 - float2)\n",
    "print(float1 * float2)\n",
    "print(float2 / float1)"
   ]
  },
  {
   "cell_type": "markdown",
   "id": "3be4fdb6",
   "metadata": {},
   "source": [
    "También es posible mezclar variables que son tipo intergers (enteras) y float (flotantes) en una operación. Sin embargo, notar que el resultado será de tipo float\n"
   ]
  },
  {
   "cell_type": "code",
   "execution_count": 29,
   "id": "0f10fc07",
   "metadata": {},
   "outputs": [
    {
     "name": "stdout",
     "output_type": "stream",
     "text": [
      "15.0\n",
      "-5.0\n",
      "50.0\n",
      "2.0\n"
     ]
    }
   ],
   "source": [
    "print(int1 + float2)\n",
    "print(int1 - float2)\n",
    "print(int1 * float2)\n",
    "print(float2 / int1)"
   ]
  },
  {
   "cell_type": "code",
   "execution_count": 30,
   "id": "9f836fc6",
   "metadata": {},
   "outputs": [
    {
     "name": "stdout",
     "output_type": "stream",
     "text": [
      "1000000\n",
      "0.03\n",
      "0\n",
      "3\n",
      "\n",
      "\n",
      "125.0\n",
      "0.6\n",
      "0.0\n",
      "3.0\n",
      "105\n",
      "0\n"
     ]
    }
   ],
   "source": [
    "int1 = 100\n",
    "int2 = 3\n",
    "float1 = 5\n",
    "float2 = 3.0\n",
    "\n",
    "print(int1 ** int2)\n",
    "print(int2 / int1)\n",
    "print(int2 // int1)\n",
    "print(int2 % int1)\n",
    "print('\\n')\n",
    "print(float1 ** float2)\n",
    "print(float2 / float1)\n",
    "print(float2 // float1)\n",
    "print(float2 % float1)\n",
    "print(float1 + int1)\n",
    "\n",
    "print(int2 // float1)"
   ]
  },
  {
   "cell_type": "markdown",
   "id": "d92ebb63",
   "metadata": {},
   "source": [
    "### Función type\n",
    "Esta función nos mostrará el tipo de variable que estamos utilizando y se puede emplear para cualquier tipo de variable."
   ]
  },
  {
   "cell_type": "code",
   "execution_count": 31,
   "id": "d6292552",
   "metadata": {},
   "outputs": [
    {
     "name": "stdout",
     "output_type": "stream",
     "text": [
      "<class 'int'>\n",
      "<class 'float'>\n"
     ]
    }
   ],
   "source": [
    "print(type(2))\n",
    "print(type(2.0))"
   ]
  },
  {
   "cell_type": "markdown",
   "id": "8f84bfcc",
   "metadata": {},
   "source": [
    "### Función input\n",
    "Se puede obtener un valor que el usuario ingrese, ejemplo:"
   ]
  },
  {
   "cell_type": "code",
   "execution_count": 33,
   "id": "34e8a27e",
   "metadata": {},
   "outputs": [
    {
     "name": "stdout",
     "output_type": "stream",
     "text": [
      "5\n"
     ]
    }
   ],
   "source": [
    "valor = int(input())"
   ]
  },
  {
   "cell_type": "markdown",
   "id": "18876bb7",
   "metadata": {},
   "source": [
    "### Ejercicio Fahrenheit\n",
    "Vamos a transformar la temperatura que ingrese el usuario en Fahrenheir y mostraremos la salida en celsius por pantalla"
   ]
  },
  {
   "cell_type": "code",
   "execution_count": 34,
   "id": "e607696b",
   "metadata": {},
   "outputs": [
    {
     "name": "stdout",
     "output_type": "stream",
     "text": [
      "78\n",
      "La temperatura es de 25.555555555555557 celsius\n"
     ]
    }
   ],
   "source": [
    "fahrenheit = int(input())\n",
    "celsius = (fahrenheit + 40) / 1.8 - 40\n",
    "print(\"La temperatura es de {} celsius\".format(celsius))\n"
   ]
  },
  {
   "cell_type": "markdown",
   "id": "70d7db67",
   "metadata": {},
   "source": [
    "## Conversion de tipos de variables\n",
    "Utilizando las funciones int(), float() y str(), se pueden convertir las variables de un tipo a otro. \n",
    "Cuidado al convertir flotantes a enteros, o cadenas de caracteres a enteros o flotantes.\n"
   ]
  },
  {
   "cell_type": "code",
   "execution_count": 35,
   "id": "0073c240",
   "metadata": {},
   "outputs": [
    {
     "name": "stdout",
     "output_type": "stream",
     "text": [
      "<class 'int'>\n",
      "<class 'float'>\n",
      "\n",
      "\n",
      "1\n",
      "<class 'str'>\n",
      "\n",
      "\n"
     ]
    }
   ],
   "source": [
    "entero = 1\n",
    "flotante = 1.9\n",
    "cadena = '1'\n",
    "cadena2 = '1.0'\n",
    "cadena3 = 'Hello, world!'\n",
    "\n",
    "print(type(entero))\n",
    "entero_new = float(entero)\n",
    "print(type(entero_new))\n",
    "print('\\n')\n",
    "print(str(entero))\n",
    "entero_str = str(entero)\n",
    "print(type(entero_str))\n",
    "print('\\n')\n",
    "\n"
   ]
  },
  {
   "cell_type": "code",
   "execution_count": 39,
   "id": "b8a43a71",
   "metadata": {},
   "outputs": [
    {
     "name": "stdout",
     "output_type": "stream",
     "text": [
      "1\n",
      "1.9\n"
     ]
    }
   ],
   "source": [
    "\n",
    "flotante = 1.9\n",
    "print(int(flotante))\n",
    "print(str(flotante))\n"
   ]
  },
  {
   "cell_type": "code",
   "execution_count": 40,
   "id": "e7cc253e",
   "metadata": {},
   "outputs": [
    {
     "name": "stdout",
     "output_type": "stream",
     "text": [
      "1\n"
     ]
    },
    {
     "data": {
      "text/plain": [
       "int"
      ]
     },
     "execution_count": 40,
     "metadata": {},
     "output_type": "execute_result"
    }
   ],
   "source": [
    "print(int(cadena))\n",
    "cadena = int(cadena)\n",
    "type(cadena)"
   ]
  },
  {
   "cell_type": "code",
   "execution_count": 41,
   "id": "2a4cb8f5",
   "metadata": {},
   "outputs": [
    {
     "data": {
      "text/plain": [
       "float"
      ]
     },
     "execution_count": 41,
     "metadata": {},
     "output_type": "execute_result"
    }
   ],
   "source": [
    "cadena = float(cadena)\n",
    "type(cadena)"
   ]
  },
  {
   "cell_type": "code",
   "execution_count": 45,
   "id": "7c30ac79",
   "metadata": {},
   "outputs": [
    {
     "name": "stdout",
     "output_type": "stream",
     "text": [
      "1\n",
      "1\n",
      "\n",
      "\n"
     ]
    }
   ],
   "source": [
    "cadena2= 1\n",
    "print(cadena2)\n",
    "# print(int(cadena2)) #Esta línea de código da error.\n",
    "print(int(float(cadena2)))\n",
    "print('\\n')\n",
    "# print(int(cadena3)) #Esta línea de código da error.\n",
    "# print(float(cadena3)) #Esta línea de código da error."
   ]
  },
  {
   "cell_type": "markdown",
   "id": "292c3a2a",
   "metadata": {},
   "source": [
    "## Operaciones de comparación\n",
    "\n",
    "Operador | Nombre | Ejemplo | Resultado |\n",
    ":--------: | :-------:| :--------: | :--------:\n",
    "**==** | Igual a | 5 == 5 | True\n",
    "**!=** | Distinto a | 5 != 5 | False\n",
    "**>** | Mayor a | 6 > 6 | False\n",
    "**>=** | Mayor o igual a | 6 >= 6 | True\n",
    "**<**  | Menor a | 45 < 50 | True\n",
    "**<=**  | Menor o igual a | 45 <= 44 | False\n",
    "\n",
    "### Ejemplo para evaluar si un valor es mayor que otro usando **if**\n"
   ]
  },
  {
   "cell_type": "code",
   "execution_count": 50,
   "id": "aefc7c53",
   "metadata": {},
   "outputs": [
    {
     "name": "stdout",
     "output_type": "stream",
     "text": [
      "ingrese valor 1: 100\n"
     ]
    }
   ],
   "source": [
    "valor1 = int(input(\"ingrese valor 1: \"))"
   ]
  },
  {
   "cell_type": "code",
   "execution_count": 51,
   "id": "8845cfe1",
   "metadata": {},
   "outputs": [
    {
     "name": "stdout",
     "output_type": "stream",
     "text": [
      "ingrese valor 2: 50\n"
     ]
    }
   ],
   "source": [
    "valor2 = int(input(\"ingrese valor 2: \"))"
   ]
  },
  {
   "cell_type": "code",
   "execution_count": 55,
   "id": "8accb27a",
   "metadata": {},
   "outputs": [
    {
     "name": "stdout",
     "output_type": "stream",
     "text": [
      "valor1 100 es mayor\n"
     ]
    }
   ],
   "source": [
    "if valor1 > valor2:\n",
    "    print(\"valor1 {} es mayor\".format(valor1))\n",
    "else:\n",
    "    print(\"no es mayor\")"
   ]
  },
  {
   "cell_type": "markdown",
   "id": "c3defcf0",
   "metadata": {},
   "source": [
    "### Ejemplo para evaluar si un valor es mayor que otro usando **if** y **else** en caso contrario"
   ]
  },
  {
   "cell_type": "code",
   "execution_count": 73,
   "id": "9470f53b",
   "metadata": {},
   "outputs": [
    {
     "name": "stdout",
     "output_type": "stream",
     "text": [
      "ingrese valor 1: 10\n"
     ]
    }
   ],
   "source": [
    "valor1 = int(input(\"ingrese valor 1: \"))"
   ]
  },
  {
   "cell_type": "code",
   "execution_count": 74,
   "id": "8bb54753",
   "metadata": {},
   "outputs": [
    {
     "name": "stdout",
     "output_type": "stream",
     "text": [
      "ingrese valor 2: 30\n"
     ]
    }
   ],
   "source": [
    "valor2 = int(input(\"ingrese valor 2: \"))"
   ]
  },
  {
   "cell_type": "code",
   "execution_count": 77,
   "id": "1677caf6",
   "metadata": {},
   "outputs": [
    {
     "name": "stdout",
     "output_type": "stream",
     "text": [
      "valor2 30 es mayor\n"
     ]
    }
   ],
   "source": [
    "if valor1 >= valor2:\n",
    "    if valor1 == valor2:\n",
    "        print(\"son iguales\")\n",
    "    elif valor1 > valor2:\n",
    "        print(\"valor1 {} es mayor\".format(valor1))\n",
    "else:\n",
    "    print(\"valor2 {} es mayor\".format(valor2))"
   ]
  },
  {
   "cell_type": "markdown",
   "id": "01ab6c8f",
   "metadata": {},
   "source": [
    "### ¿ Que pasa si ambos números son iguales?"
   ]
  },
  {
   "cell_type": "code",
   "execution_count": 78,
   "id": "f13e324c",
   "metadata": {},
   "outputs": [
    {
     "name": "stdout",
     "output_type": "stream",
     "text": [
      "valor2 300 es mayor\n"
     ]
    }
   ],
   "source": [
    "valor1 = 200\n",
    "valor2 = 300\n",
    "if valor1 > valor2:\n",
    "    print(\"valor1 {} es mayor\".format(valor1))\n",
    "else:\n",
    "    if valor1 == valor2:\n",
    "        print(\"Ambos valores son iguales\")\n",
    "    else:\n",
    "        print(\"valor2 {} es mayor\".format(valor2))"
   ]
  },
  {
   "cell_type": "markdown",
   "id": "c1507cc5",
   "metadata": {},
   "source": [
    "### Este código se puede reescribir usando elif"
   ]
  },
  {
   "cell_type": "code",
   "execution_count": 79,
   "id": "2caeba12",
   "metadata": {},
   "outputs": [
    {
     "name": "stdout",
     "output_type": "stream",
     "text": [
      "Ambos valores son iguales\n"
     ]
    }
   ],
   "source": [
    "valor1 = 100\n",
    "valor2 = 100\n",
    "if valor1 > valor2:\n",
    "    print(\"valor1 {} es mayor\".format(valor1))\n",
    "elif valor1 == valor2:\n",
    "    print(\"Ambos valores son iguales\")\n",
    "else:\n",
    "    print(\"valor2 {} es mayor\".format(valor2))"
   ]
  },
  {
   "cell_type": "markdown",
   "id": "3fab1500",
   "metadata": {},
   "source": [
    "### Operadores lógicos\n",
    "\n",
    "Operador | Nombre | Ejemplo | Resultado |\n",
    ":--------: | :-------:| :--------: | :------------------------:\n",
    "**&** | y (and)| False & True | Devuelve **False**. Si ambos son True, devuelve True\n",
    "**\\|** | o (or)| False \\| True | Devuelve **True**. Si al menos uno de True devuelve True\n",
    "**!=** | distinto de (not)| True != True| Devuelve **False**. Devuelve lo opuesto al resultado de la evaluación\n",
    "\n",
    "### Ejemplo\n",
    "\n"
   ]
  },
  {
   "cell_type": "code",
   "execution_count": 80,
   "id": "50c0d5a2",
   "metadata": {},
   "outputs": [
    {
     "name": "stdout",
     "output_type": "stream",
     "text": [
      "Usted es diestro y mayor de edad\n"
     ]
    }
   ],
   "source": [
    "edad = 22\n",
    "diestro = True\n",
    "if edad >= 18:\n",
    "    if diestro is True:\n",
    "        print (\"Usted es diestro y mayor de edad\")"
   ]
  },
  {
   "cell_type": "code",
   "execution_count": 81,
   "id": "e342f890",
   "metadata": {},
   "outputs": [
    {
     "name": "stdout",
     "output_type": "stream",
     "text": [
      "Usted es diestro y menor de edad\n"
     ]
    }
   ],
   "source": [
    "#Se puede escribir aplicando and en el if\n",
    "edad = 15\n",
    "diestro = True\n",
    "if edad >= 18 and diestro is True:\n",
    "    print (\"Usted es diestro y mayor de edad\")\n",
    "elif edad < 18 and diestro is True:\n",
    "    print (\"Usted es diestro y menor de edad\")\n"
   ]
  },
  {
   "cell_type": "markdown",
   "id": "30a79d62",
   "metadata": {},
   "source": [
    "### Listas\n",
    "Las listas son un tipo de variable que contienen distintas variables de cualquier tipo en su interior.\n"
   ]
  },
  {
   "cell_type": "code",
   "execution_count": 1,
   "id": "be4a98b8",
   "metadata": {},
   "outputs": [
    {
     "name": "stdout",
     "output_type": "stream",
     "text": [
      "[1, 2, 3, 4]\n",
      "[1.5, 6.3, 8.9]\n",
      "['Hola', 'mundo']\n"
     ]
    }
   ],
   "source": [
    "lista1 = [1, 2, 3, 4]\n",
    "lista2 = [1.5, 6.3, 8.9]\n",
    "lista3 = ['Hola', 'mundo']\n",
    "\n",
    "print(lista1)\n",
    "print(lista2)\n",
    "print(lista3)"
   ]
  },
  {
   "cell_type": "markdown",
   "id": "ec8cbd73",
   "metadata": {},
   "source": [
    "Las listas pueden contener diferentes tipos de datos\n"
   ]
  },
  {
   "cell_type": "code",
   "execution_count": 2,
   "id": "6c8d5ef0",
   "metadata": {},
   "outputs": [
    {
     "name": "stdout",
     "output_type": "stream",
     "text": [
      "[1, 'Hola, mundo!', 3.5]\n"
     ]
    }
   ],
   "source": [
    "lista4 = [1, 'Hola, mundo!', 3.5]\n",
    "\n",
    "print(lista4)\n"
   ]
  },
  {
   "cell_type": "markdown",
   "id": "48e00c5c",
   "metadata": {},
   "source": [
    "De la misma manera que con los elementos de las cadenas de caracteres, se puede acceder a los elementos de las listas de la siguiente manera:\n"
   ]
  },
  {
   "cell_type": "code",
   "execution_count": 3,
   "id": "394b3efd",
   "metadata": {},
   "outputs": [
    {
     "name": "stdout",
     "output_type": "stream",
     "text": [
      "1\n",
      "Hola, mundo!\n",
      "3.5\n"
     ]
    }
   ],
   "source": [
    "print(lista4[0])\n",
    "print(lista4[1])\n",
    "print(lista4[2])"
   ]
  },
  {
   "cell_type": "markdown",
   "id": "f0a3f53a",
   "metadata": {},
   "source": [
    "### Otras variables\n",
    "Exiten mas tipos de variables como los **diccionarios**, las **tuplas** y los **conjuntos**.\n",
    "#### Diccionarios\n"
   ]
  },
  {
   "cell_type": "code",
   "execution_count": 5,
   "id": "eea58106",
   "metadata": {},
   "outputs": [
    {
     "name": "stdout",
     "output_type": "stream",
     "text": [
      "{'Asignatura 1': 'Analisis de datos', 2: ['a', 2, 3.0], 3.0: 'Machine Learning', 'Asignatura 4': 10}\n"
     ]
    }
   ],
   "source": [
    "dictionary = {'Asignatura 1' : 'Analisis de datos', 2 : ['a', 2, 3.0], 3.0 : 'Machine Learning', 'Asignatura 4' : 10}\n",
    "print(dictionary)\n",
    "\n"
   ]
  },
  {
   "cell_type": "code",
   "execution_count": 6,
   "id": "10a5fca5",
   "metadata": {},
   "outputs": [
    {
     "name": "stdout",
     "output_type": "stream",
     "text": [
      "<class 'dict'>\n"
     ]
    }
   ],
   "source": [
    "print(type(dictionary))"
   ]
  },
  {
   "cell_type": "code",
   "execution_count": 7,
   "id": "0fc32a56",
   "metadata": {},
   "outputs": [
    {
     "name": "stdout",
     "output_type": "stream",
     "text": [
      "Analisis de datos\n"
     ]
    }
   ],
   "source": [
    "print(dictionary['Asignatura 1'])\n",
    "\n"
   ]
  },
  {
   "cell_type": "code",
   "execution_count": 8,
   "id": "1ce0c14b",
   "metadata": {},
   "outputs": [
    {
     "name": "stdout",
     "output_type": "stream",
     "text": [
      "<class 'str'>\n"
     ]
    }
   ],
   "source": [
    "print(type(dictionary['Asignatura 1']))"
   ]
  },
  {
   "cell_type": "code",
   "execution_count": 9,
   "id": "6950147b",
   "metadata": {},
   "outputs": [
    {
     "name": "stdout",
     "output_type": "stream",
     "text": [
      "['a', 2, 3.0]\n"
     ]
    }
   ],
   "source": [
    "print(dictionary[2])\n"
   ]
  },
  {
   "cell_type": "code",
   "execution_count": 10,
   "id": "14aa26dc",
   "metadata": {},
   "outputs": [
    {
     "name": "stdout",
     "output_type": "stream",
     "text": [
      "<class 'list'>\n"
     ]
    }
   ],
   "source": [
    "print(type(dictionary[2]))"
   ]
  },
  {
   "cell_type": "code",
   "execution_count": 11,
   "id": "c75af27b",
   "metadata": {},
   "outputs": [
    {
     "name": "stdout",
     "output_type": "stream",
     "text": [
      "Machine Learning\n"
     ]
    }
   ],
   "source": [
    "print(dictionary[3.0])\n"
   ]
  },
  {
   "cell_type": "code",
   "execution_count": 12,
   "id": "35f43d9e",
   "metadata": {},
   "outputs": [
    {
     "name": "stdout",
     "output_type": "stream",
     "text": [
      "<class 'str'>\n"
     ]
    }
   ],
   "source": [
    "print(type(dictionary[3.0]))"
   ]
  },
  {
   "cell_type": "code",
   "execution_count": 13,
   "id": "65dc66f5",
   "metadata": {},
   "outputs": [
    {
     "name": "stdout",
     "output_type": "stream",
     "text": [
      "10\n",
      "<class 'int'>\n"
     ]
    }
   ],
   "source": [
    "print(dictionary['Asignatura 4'])\n",
    "print(type(dictionary['Asignatura 4']))"
   ]
  },
  {
   "cell_type": "markdown",
   "id": "e9c24b0e",
   "metadata": {},
   "source": [
    "### Tupla\n",
    "Una tupla es un conjunto ordenado e inmutable de elementos del mismo o diferente tipo. Las tuplas se representan escribiendo los elementos entre paréntesis y separados por comas. Una tupla puede no contener ningún elemento, es decir, ser una tupla vacía."
   ]
  },
  {
   "cell_type": "code",
   "execution_count": 15,
   "id": "d546ab85",
   "metadata": {},
   "outputs": [
    {
     "name": "stdout",
     "output_type": "stream",
     "text": [
      "('Ai', 2, 5.0, 'DP')\n"
     ]
    }
   ],
   "source": [
    "tupla = ('Ai', 2, 5.0, 'DP')\n",
    "print(tupla)\n"
   ]
  },
  {
   "cell_type": "code",
   "execution_count": 16,
   "id": "87bbe80d",
   "metadata": {},
   "outputs": [
    {
     "name": "stdout",
     "output_type": "stream",
     "text": [
      "5.0\n",
      "<class 'float'>\n"
     ]
    }
   ],
   "source": [
    "print(tupla[2])\n",
    "print(type(tupla[2]))"
   ]
  },
  {
   "cell_type": "markdown",
   "id": "7a0280cb",
   "metadata": {},
   "source": [
    "### Conjunto\n",
    "\n",
    "Un conjunto es una set desordenado de valores no repetidos. Los conjuntos de Python son análogos a los conjuntos matemáticos. El tipo de datos que representa a los conjuntos se llama set. El tipo set es mutable: una vez que se ha creado un conjunto, puede ser modificado."
   ]
  },
  {
   "cell_type": "code",
   "execution_count": 26,
   "id": "cdad7d5d",
   "metadata": {},
   "outputs": [
    {
     "name": "stdout",
     "output_type": "stream",
     "text": [
      "{2, 3.0, 'a'}\n"
     ]
    }
   ],
   "source": [
    "conjunto1 = {'a', 2, 3.0}\n",
    "conjunto2 = {'a', 2, 4.0}\n",
    "print(conjunto1)"
   ]
  },
  {
   "cell_type": "code",
   "execution_count": 27,
   "id": "25809564",
   "metadata": {},
   "outputs": [
    {
     "name": "stdout",
     "output_type": "stream",
     "text": [
      "{2, 3.0, 'a'}\n"
     ]
    }
   ],
   "source": [
    "# Valores no repetidos .add\n",
    "conjunto1.add('a')\n",
    "print(conjunto1)\n"
   ]
  },
  {
   "cell_type": "code",
   "execution_count": 28,
   "id": "b831a53b",
   "metadata": {},
   "outputs": [
    {
     "name": "stdout",
     "output_type": "stream",
     "text": [
      "{2, 3.0, 'a'}\n"
     ]
    }
   ],
   "source": [
    "conjunto1.add(3.0)\n",
    "print(conjunto1)"
   ]
  },
  {
   "cell_type": "code",
   "execution_count": 29,
   "id": "dd775749",
   "metadata": {},
   "outputs": [
    {
     "name": "stdout",
     "output_type": "stream",
     "text": [
      "{2, 'a'}\n"
     ]
    }
   ],
   "source": [
    "print(conjunto1 & conjunto2)\n"
   ]
  },
  {
   "cell_type": "code",
   "execution_count": 30,
   "id": "9caa558f",
   "metadata": {},
   "outputs": [
    {
     "name": "stdout",
     "output_type": "stream",
     "text": [
      "{2, 3.0, 4.0, 'a'}\n"
     ]
    }
   ],
   "source": [
    "print(conjunto1 | conjunto2)\n"
   ]
  },
  {
   "cell_type": "code",
   "execution_count": 32,
   "id": "38c3ad73",
   "metadata": {},
   "outputs": [
    {
     "name": "stdout",
     "output_type": "stream",
     "text": [
      "{2, 3.0, 'a'}\n",
      "{2, 4.0, 'a'}\n",
      "{3.0}\n"
     ]
    }
   ],
   "source": [
    "# Le quita los valores comunes\n",
    "print(conjunto1)\n",
    "print(conjunto2)\n",
    "print(conjunto1 - conjunto2)\n"
   ]
  },
  {
   "cell_type": "code",
   "execution_count": 34,
   "id": "f201a109",
   "metadata": {},
   "outputs": [
    {
     "data": {
      "text/plain": [
       "({3.0}, {4.0})"
      ]
     },
     "execution_count": 34,
     "metadata": {},
     "output_type": "execute_result"
    }
   ],
   "source": [
    "a = (conjunto1 - conjunto2)\n",
    "b = (conjunto2 - conjunto1)\n",
    "c = (a,b)\n",
    "c"
   ]
  },
  {
   "cell_type": "markdown",
   "id": "7b699170",
   "metadata": {},
   "source": [
    "###  Cortes de string (cadenas) y listas\n",
    "\n",
    "Recordar que las posiciones en las cadenas de caracteres y listas empiezan a contar desde 0.\n"
   ]
  },
  {
   "cell_type": "code",
   "execution_count": 35,
   "id": "5ced9d6d",
   "metadata": {},
   "outputs": [],
   "source": [
    "cadena4 = 'abcdefg'"
   ]
  },
  {
   "cell_type": "code",
   "execution_count": 36,
   "id": "9fb0113c",
   "metadata": {},
   "outputs": [
    {
     "name": "stdout",
     "output_type": "stream",
     "text": [
      "abcd\n"
     ]
    }
   ],
   "source": [
    "print(cadena4[0:4])"
   ]
  },
  {
   "cell_type": "markdown",
   "id": "3564f048",
   "metadata": {},
   "source": [
    "En este caso, hemos puesto **[0:4]**, es decir, estamos extrayendo los elementos guardados en las posiciones 0, 1, 2 y 3. Es muy importante tener en cuenta que el primer valor (0) sí que se extraerá, pero no así el último."
   ]
  },
  {
   "cell_type": "code",
   "execution_count": 37,
   "id": "99d2e368",
   "metadata": {},
   "outputs": [],
   "source": [
    "lista5 = ['a', 'b', 'c', 'd', 'e', 'f', 'g']"
   ]
  },
  {
   "cell_type": "code",
   "execution_count": 38,
   "id": "fbd0f996",
   "metadata": {},
   "outputs": [
    {
     "name": "stdout",
     "output_type": "stream",
     "text": [
      "['a', 'b', 'c', 'd']\n"
     ]
    }
   ],
   "source": [
    "print(lista5[0:4])"
   ]
  },
  {
   "cell_type": "code",
   "execution_count": 40,
   "id": "dc23b9a9",
   "metadata": {},
   "outputs": [
    {
     "name": "stdout",
     "output_type": "stream",
     "text": [
      "abcd\n"
     ]
    }
   ],
   "source": [
    "#Otra forma de hacer lo mismo es colocar directamente [:posicion]. Se asume que parte de 0\n",
    "print(cadena4[:4])"
   ]
  },
  {
   "cell_type": "code",
   "execution_count": 41,
   "id": "ae18952e",
   "metadata": {},
   "outputs": [
    {
     "name": "stdout",
     "output_type": "stream",
     "text": [
      "['a', 'b', 'c', 'd']\n"
     ]
    }
   ],
   "source": [
    "print(lista5[:4])"
   ]
  },
  {
   "cell_type": "markdown",
   "id": "0fac4982",
   "metadata": {},
   "source": [
    "Aparte de acceder a los vectores por el primer elemento, también podemos acceder a ellos desde el último empleando el operador **-**"
   ]
  },
  {
   "cell_type": "code",
   "execution_count": 48,
   "id": "4c629b2a",
   "metadata": {},
   "outputs": [
    {
     "name": "stdout",
     "output_type": "stream",
     "text": [
      "ef\n"
     ]
    }
   ],
   "source": [
    "cadena4 = 'abcdefg'\n",
    "print(cadena4[-3:-1])"
   ]
  },
  {
   "cell_type": "code",
   "execution_count": 52,
   "id": "3087ba68",
   "metadata": {},
   "outputs": [
    {
     "name": "stdout",
     "output_type": "stream",
     "text": [
      "abcdefg\n"
     ]
    }
   ],
   "source": [
    "cadena4 = 'abcdefg'\n",
    "print(cadena4[-7:])"
   ]
  },
  {
   "cell_type": "code",
   "execution_count": 54,
   "id": "4f261392",
   "metadata": {},
   "outputs": [
    {
     "name": "stdout",
     "output_type": "stream",
     "text": [
      "g\n"
     ]
    }
   ],
   "source": [
    "print(cadena4[-1:])"
   ]
  },
  {
   "cell_type": "code",
   "execution_count": 55,
   "id": "fe69316e",
   "metadata": {},
   "outputs": [
    {
     "name": "stdout",
     "output_type": "stream",
     "text": [
      "['e', 'f', 'g']\n"
     ]
    }
   ],
   "source": [
    "lista5 = ['a', 'b', 'c', 'd', 'e', 'f', 'g']\n",
    "print(lista5[-3:])\n"
   ]
  },
  {
   "cell_type": "code",
   "execution_count": 61,
   "id": "360372a3",
   "metadata": {},
   "outputs": [
    {
     "name": "stdout",
     "output_type": "stream",
     "text": [
      "8\n"
     ]
    }
   ],
   "source": [
    "#Podemos obtener la posicion de un caracter con index\n",
    "cadena4 = 'abcdefghijklmn'\n",
    "indice_c = cadena4.index('i') \n",
    "print(indice_c)"
   ]
  },
  {
   "cell_type": "code",
   "execution_count": 62,
   "id": "af982126",
   "metadata": {},
   "outputs": [
    {
     "name": "stdout",
     "output_type": "stream",
     "text": [
      "abcdefgh\n"
     ]
    }
   ],
   "source": [
    "subcadena = cadena4[:indice_c]\n",
    "print(subcadena)"
   ]
  },
  {
   "cell_type": "code",
   "execution_count": 65,
   "id": "616f7ba0",
   "metadata": {},
   "outputs": [
    {
     "name": "stdout",
     "output_type": "stream",
     "text": [
      "abcde\n"
     ]
    }
   ],
   "source": [
    "subcadena = cadena4[:indice_c-3]\n",
    "print(subcadena)"
   ]
  },
  {
   "cell_type": "markdown",
   "id": "75b1f930",
   "metadata": {},
   "source": [
    "## Ejercicio\n",
    "Teniendo la siguiente cadena \"cadena = \"abcdefg\" obtener:\n",
    "\n",
    "Tips:\n",
    "**cadena[ini:fin].**\n",
    "#obtenemos la subcadena desde el principio hasta la posición 10\n",
    "subcadena = cadena[:10]\n",
    "#obtenemos la subcadena desde la posición 10 hasta el final\n",
    "subcadena = cadena[10:]\n"
   ]
  },
  {
   "cell_type": "markdown",
   "id": "6d2cc586",
   "metadata": {},
   "source": [
    "1) Obtener solo \"b, c, d\""
   ]
  },
  {
   "cell_type": "code",
   "execution_count": 66,
   "id": "353c2dcf",
   "metadata": {},
   "outputs": [],
   "source": [
    "cadena = \"abcdefg\""
   ]
  },
  {
   "cell_type": "code",
   "execution_count": null,
   "id": "44e52e13",
   "metadata": {},
   "outputs": [],
   "source": []
  },
  {
   "cell_type": "markdown",
   "id": "c8981290",
   "metadata": {},
   "source": [
    "2) Obtener \"a, c, e\""
   ]
  },
  {
   "cell_type": "code",
   "execution_count": null,
   "id": "1b104258",
   "metadata": {},
   "outputs": [],
   "source": []
  },
  {
   "cell_type": "code",
   "execution_count": 68,
   "id": "2b60b959",
   "metadata": {},
   "outputs": [
    {
     "name": "stdout",
     "output_type": "stream",
     "text": [
      "bcd\n",
      "ace\n"
     ]
    }
   ],
   "source": [
    "cadena = \"abcdefg\"\n",
    "\n",
    "\"b, c, d\"\n",
    "print(cadena[1:4])\n",
    "\n",
    "\"a, c, e\"\n",
    "print(cadena[0:5:2])\n"
   ]
  },
  {
   "cell_type": "code",
   "execution_count": 71,
   "id": "973e377b",
   "metadata": {},
   "outputs": [
    {
     "name": "stdout",
     "output_type": "stream",
     "text": [
      "gfedcba\n",
      "gfedcba\n",
      "gec\n"
     ]
    }
   ],
   "source": [
    "\n",
    "\"dar la vuelta\"\n",
    "print(cadena[6::-1])\n",
    "print(cadena[::-1])\n",
    "\n",
    "\"g, e, c\"\n",
    "print(cadena[:1:-2])"
   ]
  },
  {
   "cell_type": "markdown",
   "id": "24270b2d",
   "metadata": {},
   "source": [
    "# Ciclos o bucles y condiciones\n"
   ]
  },
  {
   "cell_type": "code",
   "execution_count": null,
   "id": "092bf9ee",
   "metadata": {},
   "outputs": [],
   "source": []
  },
  {
   "cell_type": "code",
   "execution_count": 72,
   "id": "9e37d30d",
   "metadata": {},
   "outputs": [
    {
     "name": "stdout",
     "output_type": "stream",
     "text": [
      "La variable \"a\" no vale 1 ni 2.\n"
     ]
    }
   ],
   "source": [
    "a = 50\n",
    "\n",
    "if a == 1:\n",
    "    print('La variable \"a\" vale 1.')\n",
    "elif a == 2:\n",
    "    print('La variable \"a\" no vale 1, sino 2.')\n",
    "else:\n",
    "    print('La variable \"a\" no vale 1 ni 2.')"
   ]
  },
  {
   "cell_type": "code",
   "execution_count": 73,
   "id": "8783ef9c",
   "metadata": {},
   "outputs": [
    {
     "name": "stdout",
     "output_type": "stream",
     "text": [
      "El elemento \"b\" está contenido en \"lista\".\n"
     ]
    }
   ],
   "source": [
    "lista = ['a', 'b', 'd']\n",
    "\n",
    "if 'b' in lista:\n",
    "    print('El elemento \"b\" está contenido en \"lista\".')\n",
    "else:\n",
    "    print('El elemento \"b\" no está contenido en \"lista\".')"
   ]
  },
  {
   "cell_type": "markdown",
   "id": "cd0d1616",
   "metadata": {},
   "source": [
    "### CICLO WHILE\n",
    "La instrucción while nos permite ejecutar una o más operaciones mientras se cumpla una condición.\n",
    "\n",
    "En algún momento algunas de las instrucciones dentro del bloque debe lograr que la condición no se cumpla. Dicho de otra forma, debe existir una condición de salida o término del ciclo.\n",
    "\n",
    "~~~\n",
    "while condicion:\n",
    "\n",
    "    codigo a implementar\n",
    "    \n",
    "~~~\n",
    "  \n",
    "**Ejemplo**\n"
   ]
  },
  {
   "cell_type": "code",
   "execution_count": 74,
   "id": "ecaf400a",
   "metadata": {},
   "outputs": [
    {
     "name": "stdout",
     "output_type": "stream",
     "text": [
      "1\n",
      "2\n",
      "3\n",
      "4\n",
      "5\n",
      "6\n",
      "7\n",
      "8\n",
      "9\n",
      "10\n"
     ]
    }
   ],
   "source": [
    "i = 1\n",
    "while i <= 10:\n",
    "    print(i)\n",
    "    i += 1"
   ]
  },
  {
   "cell_type": "code",
   "execution_count": 75,
   "id": "9345b40a",
   "metadata": {},
   "outputs": [
    {
     "name": "stdout",
     "output_type": "stream",
     "text": [
      "10\n",
      "9\n",
      "8\n",
      "7\n",
      "6\n",
      "5\n",
      "4\n",
      "3\n",
      "2\n",
      "1\n",
      "0\n"
     ]
    }
   ],
   "source": [
    "i = 10\n",
    "while i >= 0:\n",
    "    print(i)\n",
    "    i -= 1"
   ]
  },
  {
   "cell_type": "markdown",
   "id": "87069c1c",
   "metadata": {},
   "source": [
    "## Uso de break y continue "
   ]
  },
  {
   "cell_type": "code",
   "execution_count": 76,
   "id": "09d3f0ac",
   "metadata": {},
   "outputs": [
    {
     "name": "stdout",
     "output_type": "stream",
     "text": [
      "0\n",
      "1\n",
      "3\n",
      "4\n",
      "5\n",
      "6\n"
     ]
    }
   ],
   "source": [
    "\n",
    "i = -1\n",
    "while i <= 10:\n",
    "    i += 1\n",
    "    if i == 2:\n",
    "        continue\n",
    "    if i == 7:\n",
    "        break\n",
    "    print(i)"
   ]
  },
  {
   "cell_type": "code",
   "execution_count": 77,
   "id": "63ab7509",
   "metadata": {},
   "outputs": [
    {
     "name": "stdout",
     "output_type": "stream",
     "text": [
      "ingrese un número entero: 30\n"
     ]
    }
   ],
   "source": [
    "numero = int(input('ingrese un número entero: '))"
   ]
  },
  {
   "cell_type": "code",
   "execution_count": 80,
   "id": "7e89c074",
   "metadata": {},
   "outputs": [
    {
     "name": "stdout",
     "output_type": "stream",
     "text": [
      "5\n",
      "8\n",
      "11\n",
      "14\n",
      "17\n",
      "20\n",
      "\n",
      " El número 23 fue la salida de la condición\n"
     ]
    }
   ],
   "source": [
    "numero = 5 # se debe definir antes de entrar al while \n",
    "\n",
    "while numero <= 20:\n",
    "    print(numero)\n",
    "    #numero = numero + 3  # Acumulador\n",
    "    numero +=3\n",
    "    \n",
    "print(\"\\n El número {} fue la salida de la condición\".format(numero))"
   ]
  },
  {
   "cell_type": "markdown",
   "id": "f5808eae",
   "metadata": {},
   "source": [
    "### EJEMPLO 2 : Validación de entrada de datos utilizando un ciclo while"
   ]
  },
  {
   "cell_type": "code",
   "execution_count": 82,
   "id": "a392d1c7",
   "metadata": {},
   "outputs": [
    {
     "name": "stdout",
     "output_type": "stream",
     "text": [
      "Ingresa un número entre 1 y 10:\n",
      "15\n",
      "El número ingresado no está entre 1 y 10\n",
      "Ingresa un número entre 1 y 10: \n",
      "90\n",
      "El número ingresado no está entre 1 y 10\n",
      "Ingresa un número entre 1 y 10: \n",
      "80\n",
      "excede el número de intentos\n"
     ]
    }
   ],
   "source": [
    "number = int(input(\"Ingresa un número entre 1 y 10:\\n\"))\n",
    "contador = 1\n",
    "while (number < 1 or number > 10) and contador < 3:\n",
    "    print(\"El número ingresado no está entre 1 y 10\")    \n",
    "    #print(\"\\n El número ingresado fue : \", number)\n",
    "    contador +=1\n",
    "    number = int(input(\"Ingresa un número entre 1 y 10: \\n\"))\n",
    "    \n",
    "if contador == 3:\n",
    "    print('excede el número de intentos')\n",
    "else:    \n",
    "    print(\"\\n El número ingresado fue : \", number)"
   ]
  },
  {
   "cell_type": "markdown",
   "id": "71ee2c4e",
   "metadata": {},
   "source": [
    "\n",
    "## Bucles for\n",
    "\n",
    "\n",
    "La sintaxis general de los bucles for es la siguiente:\n",
    "\n",
    "~~~\n",
    "for i in [1,2,3]:\n",
    "    print(i)\n",
    "~~~"
   ]
  },
  {
   "cell_type": "code",
   "execution_count": 84,
   "id": "11fbdd82",
   "metadata": {},
   "outputs": [
    {
     "name": "stdout",
     "output_type": "stream",
     "text": [
      "1\n",
      "2\n",
      "3\n",
      "4\n",
      "5\n"
     ]
    }
   ],
   "source": [
    "for i in [1,2,3,4,5]:\n",
    "    print(i)"
   ]
  },
  {
   "cell_type": "markdown",
   "id": "65e7f0c8",
   "metadata": {},
   "source": [
    "#### Range\n",
    "\n"
   ]
  },
  {
   "cell_type": "code",
   "execution_count": 85,
   "id": "4533273e",
   "metadata": {},
   "outputs": [
    {
     "data": {
      "text/plain": [
       "[0, 1, 2, 3, 4, 5, 6, 7, 8, 9]"
      ]
     },
     "execution_count": 85,
     "metadata": {},
     "output_type": "execute_result"
    }
   ],
   "source": [
    "range(10)\n",
    "list(range(10))"
   ]
  },
  {
   "cell_type": "code",
   "execution_count": 86,
   "id": "68c54570",
   "metadata": {},
   "outputs": [
    {
     "data": {
      "text/plain": [
       "[2, 3, 4, 5, 6, 7, 8, 9]"
      ]
     },
     "execution_count": 86,
     "metadata": {},
     "output_type": "execute_result"
    }
   ],
   "source": [
    "list(range(2,10))"
   ]
  },
  {
   "cell_type": "code",
   "execution_count": 90,
   "id": "8247d701",
   "metadata": {},
   "outputs": [
    {
     "name": "stdout",
     "output_type": "stream",
     "text": [
      "0\n",
      "1\n",
      "2\n",
      "3\n",
      "4\n",
      "5\n"
     ]
    }
   ],
   "source": [
    "for i in range(0, 6):\n",
    "    print(i)\n"
   ]
  },
  {
   "cell_type": "markdown",
   "id": "b1f55907",
   "metadata": {},
   "source": [
    "\n",
    "\n",
    "Es importante darse cuenta de que el comando range(0, 3) crea una sucesión de números entre 0 y 2.\n",
    "\n",
    "Los comandos break y continue pueden resultar muy útiles. El primero termina el bucle en el instante de su ejecución, y el segundo termina la iteración actual del bucle y pasa a la siguiente.\n"
   ]
  },
  {
   "cell_type": "code",
   "execution_count": 91,
   "id": "4c02e562",
   "metadata": {},
   "outputs": [
    {
     "name": "stdout",
     "output_type": "stream",
     "text": [
      "0\n",
      "1\n",
      "3\n"
     ]
    }
   ],
   "source": [
    "for i in range(0, 10):\n",
    "    if i == 2:\n",
    "        continue\n",
    "    if i == 4:\n",
    "        break\n",
    "    print(i)"
   ]
  },
  {
   "cell_type": "markdown",
   "id": "4368441b",
   "metadata": {},
   "source": [
    "\n",
    "\n",
    "De la misma manera que ocurre con las condiones, las variables que empleamos como contador en los bucles no tienen por qué ser numéricas.\n"
   ]
  },
  {
   "cell_type": "code",
   "execution_count": 92,
   "id": "2f8fc1ce",
   "metadata": {},
   "outputs": [
    {
     "name": "stdout",
     "output_type": "stream",
     "text": [
      "a\n",
      "b\n",
      "c\n",
      "d\n",
      "e\n",
      "f\n",
      "g\n"
     ]
    }
   ],
   "source": [
    "a = ['a', 'b', 'c', 'd', 'e', 'f', 'g']\n",
    "for i in a:\n",
    "    print(i)"
   ]
  },
  {
   "cell_type": "code",
   "execution_count": 93,
   "id": "a32fba33",
   "metadata": {},
   "outputs": [
    {
     "name": "stdout",
     "output_type": "stream",
     "text": [
      "A\n",
      "l\n",
      "e\n",
      "g\n",
      "r\n",
      "í\n",
      "a\n"
     ]
    }
   ],
   "source": [
    "for i in \"Alegría\":\n",
    "    print(i)"
   ]
  },
  {
   "cell_type": "code",
   "execution_count": 94,
   "id": "beaa5e68",
   "metadata": {},
   "outputs": [
    {
     "name": "stdout",
     "output_type": "stream",
     "text": [
      "1\n",
      "1 1\n",
      "2\n",
      "2 3\n",
      "3\n",
      "3 6\n",
      "4\n",
      "4 10\n",
      "5\n",
      "5 15\n",
      "6\n",
      "6 21\n",
      "7\n",
      "7 28\n",
      "8\n",
      "8 36\n",
      "9\n",
      "9 45\n",
      "\n",
      " La suma es: 45\n"
     ]
    }
   ],
   "source": [
    "suma = 0\n",
    "for i in [1,2,3,4,5,6,7,8,9]:\n",
    "    print(i)\n",
    "    suma +=i\n",
    "    #print(suma)\n",
    "    print(i,suma)\n",
    "    #break\n",
    "    \n",
    "print('\\n La suma es: ' + str(suma))"
   ]
  },
  {
   "cell_type": "code",
   "execution_count": null,
   "id": "3ff379c2",
   "metadata": {},
   "outputs": [],
   "source": []
  }
 ],
 "metadata": {
  "kernelspec": {
   "display_name": "Python 3",
   "language": "python",
   "name": "python3"
  },
  "language_info": {
   "codemirror_mode": {
    "name": "ipython",
    "version": 3
   },
   "file_extension": ".py",
   "mimetype": "text/x-python",
   "name": "python",
   "nbconvert_exporter": "python",
   "pygments_lexer": "ipython3",
   "version": "3.8.13"
  }
 },
 "nbformat": 4,
 "nbformat_minor": 5
}
