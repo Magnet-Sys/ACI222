{
 "cells": [
  {
   "cell_type": "markdown",
   "id": "c782b6f9",
   "metadata": {},
   "source": [
    "# Introducción a Python (parte2)\n",
    "\n",
    "## Continuación clase anterior\n",
    "\n",
    "Se recomienda ejecutar paso a paso estas celdas para ir repasando Python. Esto será la base para poder avanzar en el curso de análisis de datos, por lo que también puedes agregar código o comentar las celdas para ir practicando y recordando la sintaxis."
   ]
  },
  {
   "cell_type": "markdown",
   "id": "c2910844",
   "metadata": {},
   "source": [
    "### En la clase pasada vimos strings....\n",
    "\n",
    "Y pudimos ver que es posible concatenar dos string con ```+```\n",
    "```\n",
    ">>> primera_palabra = 'Hola'\n",
    ">>> frase_completa = primera_palabra + ', mundo'\n",
    ">>> print(frase_completa)\n",
    "'Hola, mundo'\n",
    "```\n",
    "\n",
    "También se puede concatenar con el método ```str.join()``` el cual recibe como argumento una lista, de string que se desean concatenar.\n"
   ]
  },
  {
   "cell_type": "code",
   "execution_count": 1,
   "id": "14433784",
   "metadata": {},
   "outputs": [
    {
     "data": {
      "text/plain": [
       "'do - re - mi'"
      ]
     },
     "execution_count": 1,
     "metadata": {},
     "output_type": "execute_result"
    }
   ],
   "source": [
    "strings = ['do', 're', 'mi']\n",
    "separador = ' - '\n",
    "separador.join(strings)"
   ]
  },
  {
   "cell_type": "code",
   "execution_count": 2,
   "id": "31600b49",
   "metadata": {},
   "outputs": [
    {
     "data": {
      "text/plain": [
       "'doremi'"
      ]
     },
     "execution_count": 2,
     "metadata": {},
     "output_type": "execute_result"
    }
   ],
   "source": [
    "#Si no queremos añadir un separado\n",
    "strings = ['do', 're', 'mi']\n",
    "''.join(strings)"
   ]
  },
  {
   "cell_type": "markdown",
   "id": "1d443462",
   "metadata": {},
   "source": [
    "> Este método tambien sirve para Tuplas, String y  Diccionarios"
   ]
  },
  {
   "cell_type": "markdown",
   "id": "4d0247ae",
   "metadata": {},
   "source": [
    "Y existe una tercera forma, que es con el método ```str.format()``` que lo vimos la clase pasada con el uso de ```print()```"
   ]
  },
  {
   "cell_type": "code",
   "execution_count": 3,
   "id": "f26d6cbe",
   "metadata": {},
   "outputs": [
    {
     "name": "stdout",
     "output_type": "stream",
     "text": [
      "Meses: Enero, Febrero y Marzo\n",
      "Meses: Febrero, Enero y Marzo\n",
      "Meses: Enero, Febrero y Marzo\n"
     ]
    }
   ],
   "source": [
    "# Ordenado por defecto:\n",
    "frase = \"Meses: {}, {} y {}\".format('Enero','Febrero','Marzo')\n",
    "print(frase)\n",
    "\n",
    "# Especificar el orden indicando la posición:\n",
    "frase = \"Meses: {1}, {0} y {2}\".format('Enero','Febrero','Marzo')\n",
    "print(frase)\n",
    "\n",
    "# Especificar el orden mediante parejas clave-valor:\n",
    "frase = \"Meses: {ene}, {feb} y {mar}\".format(ene='Enero', feb='Febrero',mar='Marzo')\n",
    "print(frase)"
   ]
  },
  {
   "cell_type": "code",
   "execution_count": 4,
   "id": "b32f3da0",
   "metadata": {},
   "outputs": [
    {
     "name": "stdout",
     "output_type": "stream",
     "text": [
      "Meses: Enero, Febrero y Marzo\n",
      "Meses: Febrero, Enero y Marzo\n",
      "Meses: Enero, Febrero y Marzo\n"
     ]
    }
   ],
   "source": [
    "#Podemos también hacer uso directo del print()\n",
    "print(\"Meses: {}, {} y {}\".format('Enero','Febrero','Marzo'))\n",
    "print(\"Meses: {1}, {0} y {2}\".format('Enero','Febrero','Marzo'))\n",
    "print(\"Meses: {ene}, {feb} y {mar}\".format(ene='Enero', feb='Febrero',mar='Marzo'))"
   ]
  },
  {
   "cell_type": "markdown",
   "id": "35348b76",
   "metadata": {},
   "source": [
    "### No olvidar que podemos tener problemas si concatenamos variables deferentes (interger, float por ejemplo)"
   ]
  },
  {
   "cell_type": "code",
   "execution_count": 5,
   "id": "47aaad0e",
   "metadata": {},
   "outputs": [
    {
     "ename": "TypeError",
     "evalue": "can only concatenate str (not \"int\") to str",
     "output_type": "error",
     "traceback": [
      "\u001b[0;31m---------------------------------------------------------------------------\u001b[0m",
      "\u001b[0;31mTypeError\u001b[0m                                 Traceback (most recent call last)",
      "Input \u001b[0;32mIn [5]\u001b[0m, in \u001b[0;36m<cell line: 3>\u001b[0;34m()\u001b[0m\n\u001b[1;32m      1\u001b[0m edad \u001b[38;5;241m=\u001b[39m \u001b[38;5;241m23\u001b[39m\n\u001b[1;32m      2\u001b[0m size_calzado \u001b[38;5;241m=\u001b[39m \u001b[38;5;241m7.3\u001b[39m\n\u001b[0;32m----> 3\u001b[0m \u001b[38;5;28mprint\u001b[39m(\u001b[38;5;124;43m\"\u001b[39;49m\u001b[38;5;124;43mTengo \u001b[39;49m\u001b[38;5;124;43m\"\u001b[39;49m\u001b[43m \u001b[49m\u001b[38;5;241;43m+\u001b[39;49m\u001b[43m \u001b[49m\u001b[43medad\u001b[49m \u001b[38;5;241m+\u001b[39m \u001b[38;5;124m\"\u001b[39m\u001b[38;5;124m años y calzo \u001b[39m\u001b[38;5;124m\"\u001b[39m \u001b[38;5;241m+\u001b[39m size_calzado)\n",
      "\u001b[0;31mTypeError\u001b[0m: can only concatenate str (not \"int\") to str"
     ]
    }
   ],
   "source": [
    "edad = 23\n",
    "size_calzado = 7.3\n",
    "print(\"Tengo \" + edad + \" años y calzo \" + size_calzado)\n"
   ]
  },
  {
   "cell_type": "markdown",
   "id": "471a5e3c",
   "metadata": {},
   "source": [
    "#### Lo podemos solucionar con `str()` "
   ]
  },
  {
   "cell_type": "code",
   "execution_count": null,
   "id": "dee4b395",
   "metadata": {},
   "outputs": [],
   "source": [
    "edad = 23\n",
    "size_calzado = 7.3\n",
    "print(\"Tengo \" + str(edad) + \" años y calzo \" + str(size_calzado))"
   ]
  },
  {
   "cell_type": "markdown",
   "id": "55cdd04d",
   "metadata": {},
   "source": [
    "### Cadenas 'f' (f-strings)\n",
    "\n",
    "Es una forma directa para insertar variables y expresiones en cadenas. Permiten introducir cualquier variable o expresión dentro de un string incluyendo la variable entre llaves `{ ` y `}`"
   ]
  },
  {
   "cell_type": "code",
   "execution_count": null,
   "id": "5cf209c1",
   "metadata": {},
   "outputs": [],
   "source": [
    "#Para indicar que se trata de un f-string, \n",
    "#este deberá incluir la letra 'f' antes del comiendo de la cadena \n",
    "#es decir, antes de las comillas. \n",
    "\n",
    "nombre = \"Marcela\"\n",
    "edad = 52\n",
    "saludo = f\"Me llamo {nombre} y tengo {edad} años.\"\n",
    "print(saludo)"
   ]
  },
  {
   "cell_type": "code",
   "execution_count": null,
   "id": "5dd6544f",
   "metadata": {},
   "outputs": [],
   "source": [
    "a = 4\n",
    "b = 3\n",
    "print(f\"La multiplicación de {a} y {b} es igual a {a * b}\")"
   ]
  },
  {
   "cell_type": "markdown",
   "id": "53f1d59e",
   "metadata": {},
   "source": [
    "## Recordar métodos útiles para String\n",
    "\n",
    "| Método | Acción |\n",
    "|--|--|\n",
    "|len(str) |  devuelve la longitud del string |\n",
    "|str.upper() | convierte a mayúsculas |\n",
    "|str.lower() | convierte a minúsculas |\n",
    "|str.title() | convierte a mayúsculas la primera letra de cada palabra\n",
    "|str.count(substring [, inicio, fin]) | devuelve el número de veces que aparece |\n",
    "|str.find(‘d’) | devuelve el índice de la primera aparición de 'd' (devolverá -1 si no lo encuentra)|\n",
    "|substr in str | devuelve True si el string contiene el substring |\n",
    "|str.replace(old, new [, count]) | reemplaza 'old' por 'new' un máximo de 'count' veces. |\n",
    "|str.isnumeric() | devuelve True si str contiene solamente números|\n",
    "\n",
    "\n"
   ]
  },
  {
   "cell_type": "markdown",
   "id": "292c3a2a",
   "metadata": {},
   "source": [
    "## Operaciones de comparación\n",
    "\n",
    "Operador | Nombre | Ejemplo | Resultado |\n",
    ":--------: | :-------:| :--------: | :--------:\n",
    "**==** | Igual a | 5 == 5 | True\n",
    "**!=** | Distinto a | 5 != 5 | False\n",
    "**>** | Mayor a | 6 > 6 | False\n",
    "**>=** | Mayor o igual a | 6 >= 6 | True\n",
    "**<**  | Menor a | 45 < 50 | True\n",
    "**<=**  | Menor o igual a | 45 <= 44 | False\n",
    "\n"
   ]
  },
  {
   "cell_type": "markdown",
   "id": "c3defcf0",
   "metadata": {},
   "source": [
    "### Ejemplo para evaluar si un valor es mayor que otro usando **if**, en caso contrario se usa **else** \n"
   ]
  },
  {
   "cell_type": "code",
   "execution_count": null,
   "id": "9470f53b",
   "metadata": {},
   "outputs": [],
   "source": [
    "valor1 = int(input(\"ingrese valor 1: \"))"
   ]
  },
  {
   "cell_type": "code",
   "execution_count": null,
   "id": "8bb54753",
   "metadata": {},
   "outputs": [],
   "source": [
    "valor2 = int(input(\"ingrese valor 2: \"))"
   ]
  },
  {
   "cell_type": "code",
   "execution_count": null,
   "id": "1677caf6",
   "metadata": {},
   "outputs": [],
   "source": [
    "if valor1 >= valor2:\n",
    "    if valor1 == valor2:\n",
    "        print(\"son iguales\")\n",
    "    elif valor1 > valor2:\n",
    "        print(\"valor1 {} es mayor\".format(valor1))\n",
    "else:\n",
    "    print(\"valor2 {} es mayor\".format(valor2))"
   ]
  },
  {
   "cell_type": "markdown",
   "id": "01ab6c8f",
   "metadata": {},
   "source": [
    "### ¿ Que pasa si ambos números son iguales?"
   ]
  },
  {
   "cell_type": "code",
   "execution_count": null,
   "id": "f13e324c",
   "metadata": {},
   "outputs": [],
   "source": [
    "valor1 = 200\n",
    "valor2 = 300\n",
    "if valor1 > valor2:\n",
    "    print(\"valor1 {} es mayor\".format(valor1))\n",
    "else:\n",
    "    if valor1 == valor2:\n",
    "        print(\"Ambos valores son iguales\")\n",
    "    else:\n",
    "        print(\"valor2 {} es mayor\".format(valor2))"
   ]
  },
  {
   "cell_type": "markdown",
   "id": "c1507cc5",
   "metadata": {},
   "source": [
    "### Este código se puede reescribir usando elif"
   ]
  },
  {
   "cell_type": "code",
   "execution_count": null,
   "id": "2caeba12",
   "metadata": {},
   "outputs": [],
   "source": [
    "valor1 = 100\n",
    "valor2 = 100\n",
    "if valor1 > valor2:\n",
    "    print(\"valor1 {} es mayor\".format(valor1))\n",
    "elif valor1 == valor2:\n",
    "    print(\"Ambos valores son iguales\")\n",
    "else:\n",
    "    print(\"valor2 {} es mayor\".format(valor2))"
   ]
  },
  {
   "cell_type": "markdown",
   "id": "3fab1500",
   "metadata": {},
   "source": [
    "### Operadores lógicos\n",
    "\n",
    "Operador | Nombre | Ejemplo | Resultado |\n",
    ":--------: | :-------:| :--------: | :------------------------:\n",
    "**&** | y (and)| False & True | Devuelve **False**. Si ambos son True, devuelve True\n",
    "**\\|** | o (or)| False \\| True | Devuelve **True**. Si al menos uno de True devuelve True\n",
    "**!=** | distinto de (not)| True != True| Devuelve **False**. Devuelve lo opuesto al resultado de la evaluación\n",
    "\n",
    "### Ejemplo\n",
    "\n"
   ]
  },
  {
   "cell_type": "code",
   "execution_count": null,
   "id": "50c0d5a2",
   "metadata": {},
   "outputs": [],
   "source": [
    "edad = 22\n",
    "diestro = True\n",
    "if edad >= 18:\n",
    "    if diestro is True:\n",
    "        print (\"Usted es diestro y mayor de edad\")"
   ]
  },
  {
   "cell_type": "code",
   "execution_count": null,
   "id": "e342f890",
   "metadata": {},
   "outputs": [],
   "source": [
    "#Se puede escribir aplicando \"and\" en el if\n",
    "edad = 15\n",
    "diestro = True\n",
    "if edad >= 18 and diestro is True:\n",
    "    print (\"Usted es diestro y mayor de edad\")\n",
    "elif edad < 18 and diestro is True:\n",
    "    print (\"Usted es diestro y menor de edad\")\n"
   ]
  },
  {
   "cell_type": "markdown",
   "id": "30a79d62",
   "metadata": {},
   "source": [
    "### Listas\n",
    "Las listas son un tipo de variable que contienen distintas variables de cualquier tipo en su interior.\n"
   ]
  },
  {
   "cell_type": "code",
   "execution_count": null,
   "id": "be4a98b8",
   "metadata": {},
   "outputs": [],
   "source": [
    "lista1 = [1, 2, 3, 4]\n",
    "lista2 = [1.5, 6.3, 8.9]\n",
    "lista3 = ['Hola', 'mundo']\n",
    "\n",
    "print(lista1)\n",
    "print(lista2)\n",
    "print(lista3)"
   ]
  },
  {
   "cell_type": "markdown",
   "id": "ec8cbd73",
   "metadata": {},
   "source": [
    "Las listas pueden contener diferentes tipos de datos\n"
   ]
  },
  {
   "cell_type": "code",
   "execution_count": null,
   "id": "6c8d5ef0",
   "metadata": {},
   "outputs": [],
   "source": [
    "lista4 = [1, 'Hola, mundo!', 3.5]\n",
    "\n",
    "print(lista4)\n"
   ]
  },
  {
   "cell_type": "code",
   "execution_count": null,
   "id": "dc6e6c13",
   "metadata": {},
   "outputs": [],
   "source": [
    "#Se puede definir una lista vacía \n",
    "lista_vacia = []"
   ]
  },
  {
   "cell_type": "markdown",
   "id": "48e00c5c",
   "metadata": {},
   "source": [
    "De la misma manera que con los elementos de las cadenas de caracteres, se puede acceder a los elementos de las listas de la siguiente manera:\n"
   ]
  },
  {
   "cell_type": "code",
   "execution_count": null,
   "id": "394b3efd",
   "metadata": {},
   "outputs": [],
   "source": [
    "print(lista4[0])\n",
    "print(lista4[1])\n",
    "print(lista4[2])"
   ]
  },
  {
   "cell_type": "markdown",
   "id": "6a78f3af",
   "metadata": {},
   "source": [
    "También se puede cambiar un elemento de una lista"
   ]
  },
  {
   "cell_type": "code",
   "execution_count": null,
   "id": "522b7958",
   "metadata": {},
   "outputs": [],
   "source": [
    "# Lista con valores\n",
    "alumnos = [\"Ane\", \"Unai\", \"Itziar\", \"Mikel\"]\n",
    "    \n",
    "# Acceder a elementos\n",
    "print(alumnos[0]) # muestra \"Ane\"\n",
    "print(alumnos[1]) # muestra \"Unai\"\n",
    "print(alumnos[2]) # muestra \"Itziar\"\n",
    "print(alumnos[-1]) # muestra \"Mikel\"\n",
    "    \n",
    "# Cambiar un elemento\n",
    "alumnos[0] = \"Nora\" \n",
    "print (\"\\nCambio nombre a la posicion cero:\\n\")\n",
    "print (alumnos)"
   ]
  },
  {
   "cell_type": "markdown",
   "id": "e98fd516",
   "metadata": {},
   "source": [
    "Los **métodos más utilizados** con las listas son los siguientes:\n",
    "\n",
    "| Método | Acción |\n",
    "|--|--|\n",
    "| `alumnos.append(\"Javiera\")` | Inserta \"Javiera\" al final de la lista |\n",
    "| `alumnos.insert(0,\"Javiera\")` | Inserta \"Javiera\" en la posición 0 |\n",
    "| `alumnos.remove(\"Javiera\")` | Elimina la primera aparición de \"Javiera\" de la lista |\n",
    "| `alumnos.pop()` | Elimina el último elemento de la lista |\n",
    "| `alumnos.pop(3)` | Elimina el cuarto elemento de la lista |\n",
    "| `alumnos.clear()` | Elimina todos los elementos de la lista |\n",
    "| `alumnos.index(\"Javiera\")` | Devuelve el índice de la primera aparición de \"Javiera\" |\n",
    "| `alumnos.sort()` | Ordena la lista (los elementos deben ser comparables) |\n",
    "| `sorted(alumnos)` | Devuelve una copia de la lista 'alumnos' ordenada   |\n",
    "| `alumnos.reverse()` | Ordena la lista en orden inverso |\n",
    "| `alumnos.copy()` | Devuelve una copia de la lista |\n",
    "| `alumnos.extend(otra_lista)` | Fusiona las dos listas |\n"
   ]
  },
  {
   "cell_type": "markdown",
   "id": "b9e32e91",
   "metadata": {},
   "source": [
    "Podemos usar \"+\" para concatenar listas:"
   ]
  },
  {
   "cell_type": "code",
   "execution_count": null,
   "id": "4b1ea849",
   "metadata": {},
   "outputs": [],
   "source": [
    "alumnos2 = alumnos + ['nuevo item']\n",
    "print(alumnos2)"
   ]
  },
  {
   "cell_type": "markdown",
   "id": "72de2ab9",
   "metadata": {},
   "source": [
    "Y se puede duplicar con \"*\""
   ]
  },
  {
   "cell_type": "code",
   "execution_count": null,
   "id": "8669bba6",
   "metadata": {},
   "outputs": [],
   "source": [
    "alumnos2 * 2"
   ]
  },
  {
   "cell_type": "markdown",
   "id": "e4bf0375",
   "metadata": {},
   "source": [
    "#### Iterar una lista"
   ]
  },
  {
   "cell_type": "code",
   "execution_count": null,
   "id": "339ac151",
   "metadata": {},
   "outputs": [],
   "source": [
    "new_list = alumnos2 * 2\n",
    "\n",
    "for l in new_list:\n",
    "    print(l)\n"
   ]
  },
  {
   "cell_type": "markdown",
   "id": "6fd8f624",
   "metadata": {},
   "source": [
    "Otra forma de iterar es usando range"
   ]
  },
  {
   "cell_type": "code",
   "execution_count": null,
   "id": "64f67402",
   "metadata": {},
   "outputs": [],
   "source": [
    "lista1 = [5, 9, 10]\n",
    "for i in range(0, len(lista1)):\n",
    "    print(lista1[i])\n"
   ]
  },
  {
   "cell_type": "markdown",
   "id": "57e396ec",
   "metadata": {},
   "source": [
    "Y otra forma es usando while"
   ]
  },
  {
   "cell_type": "code",
   "execution_count": null,
   "id": "9ba26482",
   "metadata": {},
   "outputs": [],
   "source": [
    "lista =  ['Python','JavaScript','JAVA']\n",
    "i = 0\n",
    "sizeofList = len(lista) \n",
    "\n",
    "while i < sizeofList :\n",
    "    print(\"Programo en\",lista[i]) \n",
    "    i += 1"
   ]
  },
  {
   "cell_type": "markdown",
   "id": "f0a3f53a",
   "metadata": {},
   "source": [
    "### Diccionarios\n",
    "Un diccionario en Python es una colección de elementos, donde cada uno tiene una ```llave``` key y un ```valor``` value. Los diccionarios se pueden crear con paréntesis ```{}``` separando con una coma ```,``` cada par ```key: value```. \n",
    "\n",
    "Las claves tienen que ser únicas y estar formadas por un string o un número. \n",
    "\n",
    "En el siguiente ejemplo tenemos tres keys que son el nombre, la edad y el documento."
   ]
  },
  {
   "cell_type": "code",
   "execution_count": null,
   "id": "0360224e",
   "metadata": {},
   "outputs": [],
   "source": [
    "d1 = {\n",
    "  \"Nombre\": \"Sara\",\n",
    "  \"Edad\": 27,\n",
    "  \"Documento\": 1003882\n",
    "}\n",
    "print(d1)"
   ]
  },
  {
   "cell_type": "markdown",
   "id": "7756d374",
   "metadata": {},
   "source": [
    "También podemos ver los diccionarios de le siguiente forma"
   ]
  },
  {
   "cell_type": "code",
   "execution_count": null,
   "id": "eea58106",
   "metadata": {},
   "outputs": [],
   "source": [
    "dictionary = {'Asignatura 1' : 'Analisis de datos', 2 : ['a', 2, 3.0], 3.0 : 'Machine Learning', 'Asignatura 4' : 10}\n",
    "print(dictionary)\n",
    "\n"
   ]
  },
  {
   "cell_type": "code",
   "execution_count": null,
   "id": "10a5fca5",
   "metadata": {},
   "outputs": [],
   "source": [
    "#Con Type podemos saber que typo es la variable dictionary\n",
    "\n",
    "print(type(dictionary))"
   ]
  },
  {
   "cell_type": "code",
   "execution_count": null,
   "id": "0fc32a56",
   "metadata": {},
   "outputs": [],
   "source": [
    "#Se puede acceder a mostrar la clave, si le entregamos la llave específica\n",
    "print(dictionary['Asignatura 1'])\n",
    "\n"
   ]
  },
  {
   "cell_type": "code",
   "execution_count": null,
   "id": "1ce0c14b",
   "metadata": {},
   "outputs": [],
   "source": [
    "#Dentro de un diccionario, se puede tener tipo string listas, etc. \n",
    "#Esto lo podemos saber con type, y entregando la llave para saber de que tipo es el valor.\n",
    "print(type(dictionary[2]))\n",
    "print(type(dictionary['Asignatura 1']))\n",
    "print(type(dictionary[3.0]))"
   ]
  },
  {
   "cell_type": "code",
   "execution_count": null,
   "id": "6950147b",
   "metadata": {},
   "outputs": [],
   "source": [
    "print(dictionary[2])\n"
   ]
  },
  {
   "cell_type": "code",
   "execution_count": null,
   "id": "14aa26dc",
   "metadata": {},
   "outputs": [],
   "source": [
    "print(type(dictionary[2]))"
   ]
  },
  {
   "cell_type": "code",
   "execution_count": null,
   "id": "c75af27b",
   "metadata": {},
   "outputs": [],
   "source": [
    "print(dictionary[3.0])\n"
   ]
  },
  {
   "cell_type": "code",
   "execution_count": null,
   "id": "35f43d9e",
   "metadata": {},
   "outputs": [],
   "source": [
    "print(type(dictionary[3.0]))"
   ]
  },
  {
   "cell_type": "code",
   "execution_count": null,
   "id": "65dc66f5",
   "metadata": {},
   "outputs": [],
   "source": [
    "print(dictionary['Asignatura 4'])\n",
    "print(type(dictionary['Asignatura 4']))"
   ]
  },
  {
   "cell_type": "markdown",
   "id": "847c36ee",
   "metadata": {},
   "source": [
    "#### Es posible usar el constructor `dict()` para crear un diccionario."
   ]
  },
  {
   "cell_type": "code",
   "execution_count": null,
   "id": "24172d38",
   "metadata": {},
   "outputs": [],
   "source": [
    "d3 = dict(Nombre='Sara',\n",
    "          Edad=27,\n",
    "          Documento=1003882)\n",
    "print(d3)"
   ]
  },
  {
   "cell_type": "markdown",
   "id": "03d0eecd",
   "metadata": {},
   "source": [
    ">Algunas propiedades de los diccionario en Python son las siguientes:\n",
    "\n",
    "    -Son dinámicos, pueden crecer o decrecer, se pueden añadir o eliminar elementos.\n",
    "    -Son indexados, los elementos del diccionario son accesibles a través del ```key```.\n",
    "    -Y son anidados, un diccionario puede contener a otro diccionario en su campo ```value```."
   ]
  },
  {
   "cell_type": "markdown",
   "id": "c6615f94",
   "metadata": {},
   "source": [
    "#### ¿Cómo se puede acceder y modificar los elementos de un diccionario\n",
    "\n",
    "Se puede acceder a los elementos con ```[]``` o con la función ```get()```"
   ]
  },
  {
   "cell_type": "code",
   "execution_count": null,
   "id": "2a5ddd30",
   "metadata": {},
   "outputs": [],
   "source": [
    "dic1 = dict(Nombre='Juan',\n",
    "            Edad=27,\n",
    "            Sexo='F')\n",
    "\n",
    "\n",
    "print(dic1['Nombre'])     \n",
    "print(dic1.get('Nombre')) "
   ]
  },
  {
   "cell_type": "markdown",
   "id": "d9cebc92",
   "metadata": {},
   "source": [
    "Para modificar un elemento, se usa ```[]``` con el nombre del key y asignar el valor que queremos."
   ]
  },
  {
   "cell_type": "code",
   "execution_count": null,
   "id": "43d0f20f",
   "metadata": {},
   "outputs": [],
   "source": [
    "dic1['Nombre']= \"Luis\"\n",
    "print(dic1)"
   ]
  },
  {
   "cell_type": "code",
   "execution_count": null,
   "id": "67c9cdc7",
   "metadata": {},
   "outputs": [],
   "source": [
    "estudiante = {\n",
    "    \"nombre\": \"Juan Pérez\",\n",
    "    \"edad\": 30,\n",
    "    \"gender\": \"M\",\n",
    "    \"Diestro\" : False\n",
    "}"
   ]
  },
  {
   "cell_type": "code",
   "execution_count": null,
   "id": "50e2b896",
   "metadata": {},
   "outputs": [],
   "source": [
    "# Acceder al valor de una clave\n",
    "edad = estudiante[\"edad\"] # devuelve el valor de 'edad'\n",
    "gender = estudiante.get(\"gender\") # devuelve el valor de 'gender'\n",
    "print(edad)\n",
    "print(gender)\n",
    "print(\"=========\")\n",
    "\n",
    "# Insertar o actualizar un valor:\n",
    "estudiante[\"edad\"] = 25 # actualiza el valor de 'edad'\n",
    "estudiante[\"curso\"] = 3 # inserta una nueva pareja clave - valor\n",
    "print(edad)\n",
    "print(estudiante)\n",
    "print(\"=========\")\n",
    "\n",
    "\n",
    "# insertar una pareja clave - valor o actualizar si ya existe:\n",
    "estudiante.update({'aprobados':'8'})\n",
    "\n",
    "print(estudiante)\n",
    "print(\"=========\")\n",
    "\n",
    "\n"
   ]
  },
  {
   "cell_type": "markdown",
   "id": "a27b5007",
   "metadata": {},
   "source": [
    "#### Formas de recorrer un diccionario:\n",
    "\n",
    "Es muy común recorrerlo con for"
   ]
  },
  {
   "cell_type": "code",
   "execution_count": null,
   "id": "1daff25c",
   "metadata": {},
   "outputs": [],
   "source": [
    "diccionario =  {'a':1,  'b':2,  'c':3}\n",
    "for key in diccionario:\n",
    "    print(key)"
   ]
  },
  {
   "cell_type": "markdown",
   "id": "8649ac3b",
   "metadata": {},
   "source": [
    "Otra forma equivalente de recorrerlo es"
   ]
  },
  {
   "cell_type": "code",
   "execution_count": null,
   "id": "920d1697",
   "metadata": {},
   "outputs": [],
   "source": [
    "diccionario =  {'a':1,  'b':2,  'c':3}\n",
    "for key in diccionario.keys():\n",
    "    print (key)\n",
    "\n"
   ]
  },
  {
   "cell_type": "markdown",
   "id": "2d52544f",
   "metadata": {},
   "source": [
    "Para iterar el diccionario accediendo a los valores se puede de hacer :"
   ]
  },
  {
   "cell_type": "code",
   "execution_count": null,
   "id": "86b5f107",
   "metadata": {},
   "outputs": [],
   "source": [
    "diccionario =  {'a':1,  'b':2,  'c':3}\n",
    "for key in diccionario:\n",
    "    print(diccionario[key])\n"
   ]
  },
  {
   "cell_type": "code",
   "execution_count": null,
   "id": "68a60e7d",
   "metadata": {},
   "outputs": [],
   "source": [
    "## Queremos mostrar la llave y el valor\n",
    "for key in diccionario:\n",
    "  print (key, \":\", diccionario[key])\n"
   ]
  },
  {
   "cell_type": "markdown",
   "id": "355a7435",
   "metadata": {},
   "source": [
    "Otra forma es usando la función `items()` la cual devuelve un diccionario como tuplas `(key,value)`"
   ]
  },
  {
   "cell_type": "code",
   "execution_count": null,
   "id": "083dfe65",
   "metadata": {},
   "outputs": [],
   "source": [
    "diccionario =  {'a':1,  'b':2,  'c':3}\n",
    "for key, value in diccionario.items():\n",
    "    print(\"El valor de %s is %d\" % (key, value))\n"
   ]
  },
  {
   "cell_type": "markdown",
   "id": "4b8e0bb7",
   "metadata": {},
   "source": [
    "### Algunos de los métodos más utilizados son los siguientes:"
   ]
  },
  {
   "cell_type": "markdown",
   "id": "ca47ab12",
   "metadata": {},
   "source": [
    "| Método | Acción |\n",
    "|--|--|\n",
    "|diccionario.keys() \t| Devuelve todas las claves del diccionario |\n",
    "|diccionario.values() |\tDevuelve todos los valores del diccionario |\n",
    "|diccionario.pop(clave) |\tElimina la clave del diccionario y devuelve su valor asociado. Si no lo encuentra devuelve error|\n",
    "| diccionario.copy() | Retorna una copia del deccionario\n",
    "|diccionario.clear() |\tVacía el diccionario |\n",
    "|clave in diccionario |\tDevuelve True si el diccionario contiene la clave o False en caso contrario.|\n",
    "|valor in diccionario.values() |\tDevuelve True si el diccionario contiene el valor o False en caso contrario.|"
   ]
  },
  {
   "cell_type": "markdown",
   "id": "cfcb6bb3",
   "metadata": {},
   "source": [
    "#### dic()\n",
    "Recibe como parámetro una representación de un diccionario y si es factible, devuelve un diccionario de datos."
   ]
  },
  {
   "cell_type": "code",
   "execution_count": null,
   "id": "c23b0f5d",
   "metadata": {},
   "outputs": [],
   "source": [
    "dic =  dict(nombre='nestor', apellido='Plasencia', edad=22)\n",
    "print(dic)"
   ]
  },
  {
   "cell_type": "code",
   "execution_count": null,
   "id": "cf591032",
   "metadata": {},
   "outputs": [],
   "source": [
    "print(type(dic))"
   ]
  },
  {
   "cell_type": "markdown",
   "id": "d7b7128f",
   "metadata": {},
   "source": [
    "#### zip()\n",
    "Recibe como parámetro dos elementos iterables, ya sea una cadena, una lista o una tupla. Ambos parámetros deben tener el mismo número de elementos. Se devolverá un diccionario relacionando el elemento i-esimo de cada uno de los iterables."
   ]
  },
  {
   "cell_type": "code",
   "execution_count": null,
   "id": "cc615e57",
   "metadata": {},
   "outputs": [],
   "source": [
    "dic = dict(zip('abcd',[1,2,3,4]))\n",
    "print(dic)"
   ]
  },
  {
   "cell_type": "markdown",
   "id": "4d30c8d1",
   "metadata": {},
   "source": [
    "#### keys()\n",
    "Retorna una lista de elementos, los cuales serán las keys de nuestro diccionario."
   ]
  },
  {
   "cell_type": "code",
   "execution_count": null,
   "id": "31e0116c",
   "metadata": {},
   "outputs": [],
   "source": [
    "dic = dict(zip('abcd',[1,2,3,4]))\n",
    "keys= dic.keys()\n",
    "print (keys)"
   ]
  },
  {
   "cell_type": "code",
   "execution_count": null,
   "id": "d647e080",
   "metadata": {},
   "outputs": [],
   "source": [
    "print(dic.keys())"
   ]
  },
  {
   "cell_type": "markdown",
   "id": "0e5bb3f3",
   "metadata": {},
   "source": [
    "#### values()\n",
    "Retorna una lista de elementos, que serán los valores de nuestro diccionario."
   ]
  },
  {
   "cell_type": "code",
   "execution_count": null,
   "id": "6fedf958",
   "metadata": {},
   "outputs": [],
   "source": [
    "dic = dict(zip('abcd',[1,2,3,4]))\n",
    "values= dic.values()\n",
    "print(values)"
   ]
  },
  {
   "cell_type": "markdown",
   "id": "99cc4813",
   "metadata": {},
   "source": [
    "#### pop()\n",
    "Recibe como parámetro una clave, elimina esta y devuelve su valor. Si no lo encuentra, devuelve error."
   ]
  },
  {
   "cell_type": "code",
   "execution_count": null,
   "id": "a2ec884f",
   "metadata": {},
   "outputs": [],
   "source": [
    "dic = dict(zip('abcd',[1,2,3,4]))\n",
    "valor = dic.pop('b') \n",
    "print(\"valor:\", valor)\n",
    "print(\"diccionario final:\", dic)"
   ]
  },
  {
   "cell_type": "markdown",
   "id": "24b7bebb",
   "metadata": {},
   "source": [
    "#### clear()\n",
    "Elimina todos los ítems del diccionario dejándolo vacío."
   ]
  },
  {
   "cell_type": "code",
   "execution_count": null,
   "id": "c9f80ee4",
   "metadata": {},
   "outputs": [],
   "source": [
    "dic = dict(zip('abcd',[1,2,3,4]))\n",
    "dic.clear()\n",
    "print(dic)"
   ]
  },
  {
   "cell_type": "markdown",
   "id": "596ce487",
   "metadata": {},
   "source": [
    "#### get() : ```get(<key>[,<default>])```\n",
    "El método get() nos permite consultar el value para un key determinado. El segundo parámetro es opcional, y en el caso de proporcionarlo es el valor a devolver si no se encuentra la key"
   ]
  },
  {
   "cell_type": "code",
   "execution_count": null,
   "id": "b0bbd40f",
   "metadata": {},
   "outputs": [],
   "source": [
    "dic = dict(zip('abcd',[1,2,3,4]))\n",
    "print(dic.get('a'))"
   ]
  },
  {
   "cell_type": "code",
   "execution_count": null,
   "id": "0822b6f3",
   "metadata": {},
   "outputs": [],
   "source": [
    "#si queremos saber el valor de un key pero no sabemos si está, para que no tire error podemos hacer :\n",
    "dic = dict(zip('abcd',[1,2,3,4]))\n",
    "print(dic.get('z', 'No encontrado'))"
   ]
  },
  {
   "cell_type": "markdown",
   "id": "71639645",
   "metadata": {},
   "source": [
    "#### popitem()\n",
    "Este método elimina de manera aleatoria un elemento del diccionario."
   ]
  },
  {
   "cell_type": "code",
   "execution_count": null,
   "id": "99071fed",
   "metadata": {},
   "outputs": [],
   "source": [
    "dic = dict(zip('abcd',[1,2,3,4]))\n",
    "dic.popitem()"
   ]
  },
  {
   "cell_type": "code",
   "execution_count": null,
   "id": "d91723b8",
   "metadata": {},
   "outputs": [],
   "source": [
    "print(dic)"
   ]
  },
  {
   "cell_type": "markdown",
   "id": "6423045a",
   "metadata": {},
   "source": [
    "#### Diccionarios anidados\n",
    "En Python los diccionarios pueden estar contenidos uno dentro de otro. Podemos ver como los valores anidado1 y anidado2 del diccionario d contienen a su vez otro diccionario."
   ]
  },
  {
   "cell_type": "code",
   "execution_count": null,
   "id": "4afbbb50",
   "metadata": {},
   "outputs": [],
   "source": [
    "anidado1 = {\"a\": 1, \"b\": 2}\n",
    "anidado2 = {\"a\": 1, \"b\": 2}\n",
    "d = {\n",
    "  \"anidado1\" : anidado1,\n",
    "  \"anidado2\" : anidado2\n",
    "}\n",
    "print(d)\n"
   ]
  },
  {
   "cell_type": "markdown",
   "id": "e00a1347",
   "metadata": {},
   "source": [
    "#### update()\n",
    "El método update() se llama sobre un diccionario y tiene como entrada otro diccionario. Los value son actualizados y si alguna key del nuevo diccionario no esta, es añadida.\n"
   ]
  },
  {
   "cell_type": "code",
   "execution_count": null,
   "id": "86b0018a",
   "metadata": {},
   "outputs": [],
   "source": [
    "d1 = {'a': 1, 'b': 2}\n",
    "d2 = {'a': 0, 'd': 400}\n",
    "d1.update(d2)\n",
    "print(d1)"
   ]
  },
  {
   "cell_type": "markdown",
   "id": "e9c24b0e",
   "metadata": {},
   "source": [
    "### Tupla\n",
    "Una tupla es un conjunto ordenado e inmutable de elementos del mismo o diferente tipo. Las tuplas se representan escribiendo los elementos entre paréntesis y separados por comas. Una tupla puede no contener ningún elemento, es decir, ser una tupla vacía.\n",
    "Las tuplas son muy similares a las listas, pero con dos diferencias. \n",
    "\n",
    "- Son inmutables, lo que significa que no pueden ser modificadas una vez declaradas\n",
    "- En vez de inicializarse con corchetes `{}` se hace con `()`"
   ]
  },
  {
   "cell_type": "code",
   "execution_count": null,
   "id": "d546ab85",
   "metadata": {},
   "outputs": [],
   "source": [
    "tupla = ('Ai', 2, 5.0, 'DP')\n",
    "print(tupla)\n"
   ]
  },
  {
   "cell_type": "code",
   "execution_count": null,
   "id": "87bbe80d",
   "metadata": {},
   "outputs": [],
   "source": [
    "print(tupla[2])\n",
    "print(type(tupla[2]))"
   ]
  },
  {
   "cell_type": "markdown",
   "id": "407ee54e",
   "metadata": {},
   "source": [
    "También pueden declararse sin `()`, separando por `,` todos sus elementos."
   ]
  },
  {
   "cell_type": "code",
   "execution_count": null,
   "id": "5bcb73a3",
   "metadata": {},
   "outputs": [],
   "source": [
    "tupla = 1, 2, 3\n",
    "print(type(tupla)) \n",
    "print(tupla)       "
   ]
  },
  {
   "cell_type": "code",
   "execution_count": null,
   "id": "afde3a0b",
   "metadata": {},
   "outputs": [],
   "source": [
    "# como sin inmutables, no se puede modificar el valor, intentemos  hacerlo para ver que pasa....\n",
    "tupla = (1, 2, 3)\n",
    "tupla[0] = 5"
   ]
  },
  {
   "cell_type": "markdown",
   "id": "89c20614",
   "metadata": {},
   "source": [
    "Al igual que las listas y los diccionarios, las tuplas también pueden ser anidadas"
   ]
  },
  {
   "cell_type": "code",
   "execution_count": null,
   "id": "35e5a648",
   "metadata": {},
   "outputs": [],
   "source": [
    "tupla = 1, 2, ('a', 'b'), 3\n",
    "print(tupla)      \n",
    "print(tupla[2][0]) \n"
   ]
  },
  {
   "cell_type": "markdown",
   "id": "e9bef976",
   "metadata": {},
   "source": [
    "Es posible convertir una lista en tupla haciendo uso de al función ```tuple()```"
   ]
  },
  {
   "cell_type": "code",
   "execution_count": null,
   "id": "88fad857",
   "metadata": {},
   "outputs": [],
   "source": [
    "lista = [1, 2, 3]\n",
    "tupla = tuple(lista)\n",
    "print(type(tupla)) \n",
    "print(tupla)       \n"
   ]
  },
  {
   "cell_type": "markdown",
   "id": "ea210e6b",
   "metadata": {},
   "source": [
    "Se puede también asignar el valor de una tupla con n elementos a n variables."
   ]
  },
  {
   "cell_type": "code",
   "execution_count": null,
   "id": "ec470d4f",
   "metadata": {},
   "outputs": [],
   "source": [
    "l = (1, 2, 3)\n",
    "a, b, c = l\n",
    "print(a)\n",
    "print(b)\n",
    "print(c)"
   ]
  },
  {
   "cell_type": "code",
   "execution_count": null,
   "id": "22e2d89e",
   "metadata": {},
   "outputs": [],
   "source": [
    "#Se puede usar el metodo count() para contar un elemento dentro de la tupla\n",
    "l = (1, 2, 3, 1, 4, 6, 7, 8, 9, 1, 4)\n",
    "\n",
    "l.count(1)"
   ]
  },
  {
   "cell_type": "markdown",
   "id": "7a0280cb",
   "metadata": {},
   "source": [
    "### Conjunto\n",
    "\n",
    "Un conjunto es una set desordenado de valores no repetidos. Los conjuntos de Python son análogos a los conjuntos matemáticos. El tipo de datos que representa a los conjuntos se llama set. El tipo set es mutable: una vez que se ha creado un conjunto, puede ser modificado."
   ]
  },
  {
   "cell_type": "code",
   "execution_count": null,
   "id": "cdad7d5d",
   "metadata": {},
   "outputs": [],
   "source": [
    "conjunto1 = {'a', 2, 3.0}\n",
    "conjunto2 = {'a', 2, 4.0}\n",
    "print(conjunto1)"
   ]
  },
  {
   "cell_type": "code",
   "execution_count": null,
   "id": "25809564",
   "metadata": {},
   "outputs": [],
   "source": [
    "# Valores no repetidos .add\n",
    "conjunto1.add('b')\n",
    "print(conjunto1)\n"
   ]
  },
  {
   "cell_type": "code",
   "execution_count": null,
   "id": "b831a53b",
   "metadata": {},
   "outputs": [],
   "source": [
    "# si añadimos un valor que ya esta en la lista no hace nada\n",
    "conjunto1.add(3.0)\n",
    "print(conjunto1)"
   ]
  },
  {
   "cell_type": "markdown",
   "id": "b274896f",
   "metadata": {},
   "source": [
    "**Input :**\n",
    "\n",
    "A = (0, 2, 4, 6, 8)\n",
    "\n",
    "B = (1, 2, 3, 4, 5)\n",
    "\n",
    "**Output :**\n",
    " \n",
    " Union : (0, 1, 2, 3, 4, 5, 6, 8)\n",
    " \n",
    " Intersection : (2, 4)\n",
    " \n",
    " Difference : (8, 0, 6)\n",
    " \n",
    " Symmetric difference : (0, 1, 3, 5, 6, 8)\n",
    " \n",
    "```\n",
    "| for union.\n",
    "& for intersection.\n",
    "– for difference\n",
    "^ for symmetric difference\n",
    "\n",
    "```\n",
    " "
   ]
  },
  {
   "cell_type": "code",
   "execution_count": null,
   "id": "dd775749",
   "metadata": {},
   "outputs": [],
   "source": [
    "# Conjunto 1 y Conjunto 2 lo que tienen ambos en comun: intersección\n",
    "print (conjunto1)\n",
    "print (conjunto2)\n",
    "print(conjunto1 & conjunto2)\n"
   ]
  },
  {
   "cell_type": "code",
   "execution_count": null,
   "id": "9caa558f",
   "metadata": {},
   "outputs": [],
   "source": [
    "# Conjunto 1 o Conjunto 2 lo que se encuentra en conjunto1 o en el conjunto2: unión\n",
    "print(conjunto1 | conjunto2)\n"
   ]
  },
  {
   "cell_type": "code",
   "execution_count": null,
   "id": "38c3ad73",
   "metadata": {},
   "outputs": [],
   "source": [
    "# Le quita los valores comunes\n",
    "print(conjunto1)\n",
    "print(conjunto2)\n",
    "print(conjunto1 - conjunto2)\n"
   ]
  },
  {
   "cell_type": "code",
   "execution_count": null,
   "id": "f201a109",
   "metadata": {},
   "outputs": [],
   "source": [
    "a = (conjunto1 - conjunto2)\n",
    "b = (conjunto2 - conjunto1)\n",
    "c = (a,b)\n",
    "c"
   ]
  },
  {
   "cell_type": "markdown",
   "id": "7b699170",
   "metadata": {},
   "source": [
    "###  Cortes de string (cadenas) y listas\n",
    "\n",
    "Recordar que las posiciones en las cadenas de caracteres y listas empiezan a contar desde 0.\n"
   ]
  },
  {
   "cell_type": "code",
   "execution_count": null,
   "id": "5ced9d6d",
   "metadata": {},
   "outputs": [],
   "source": [
    "cadena4 = 'abcdefg'"
   ]
  },
  {
   "cell_type": "code",
   "execution_count": null,
   "id": "9fb0113c",
   "metadata": {},
   "outputs": [],
   "source": [
    "print(cadena4[0:4])"
   ]
  },
  {
   "cell_type": "markdown",
   "id": "3564f048",
   "metadata": {},
   "source": [
    "En este caso, hemos puesto **[0:4]**, es decir, estamos extrayendo los elementos guardados en las posiciones 0, 1, 2 y 3. Es muy importante tener en cuenta que el primer valor (0) sí que se extraerá, pero no así el último."
   ]
  },
  {
   "cell_type": "code",
   "execution_count": null,
   "id": "99d2e368",
   "metadata": {},
   "outputs": [],
   "source": [
    "lista5 = ['a', 'b', 'c', 'd', 'e', 'f', 'g']"
   ]
  },
  {
   "cell_type": "code",
   "execution_count": null,
   "id": "fbd0f996",
   "metadata": {},
   "outputs": [],
   "source": [
    "print(lista5[0:4])"
   ]
  },
  {
   "cell_type": "code",
   "execution_count": null,
   "id": "dc23b9a9",
   "metadata": {},
   "outputs": [],
   "source": [
    "#Otra forma de hacer lo mismo es colocar directamente [:posicion]. Se asume que parte de 0\n",
    "print(cadena4[:4])"
   ]
  },
  {
   "cell_type": "code",
   "execution_count": null,
   "id": "ae18952e",
   "metadata": {},
   "outputs": [],
   "source": [
    "print(lista5[:4])"
   ]
  },
  {
   "cell_type": "markdown",
   "id": "0fac4982",
   "metadata": {},
   "source": [
    "Aparte de acceder a los vectores por el primer elemento, también podemos acceder a ellos desde el último empleando el operador `-`"
   ]
  },
  {
   "cell_type": "code",
   "execution_count": null,
   "id": "4c629b2a",
   "metadata": {},
   "outputs": [],
   "source": [
    "cadena4 = 'abcdefg'\n",
    "print(cadena4[-3:-1])"
   ]
  },
  {
   "cell_type": "code",
   "execution_count": null,
   "id": "42265383",
   "metadata": {},
   "outputs": [],
   "source": [
    "#Si queremos accder al ultimo elemento\n",
    "print(cadena4[-1])\n"
   ]
  },
  {
   "cell_type": "code",
   "execution_count": null,
   "id": "4fcc8345",
   "metadata": {},
   "outputs": [],
   "source": [
    "# Que creen que aparece acá?\n",
    "print(cadena4[-0])"
   ]
  },
  {
   "cell_type": "code",
   "execution_count": null,
   "id": "3087ba68",
   "metadata": {},
   "outputs": [],
   "source": [
    "cadena4 = 'abcdefg'\n",
    "print(cadena4[-7:])"
   ]
  },
  {
   "cell_type": "code",
   "execution_count": null,
   "id": "4f261392",
   "metadata": {},
   "outputs": [],
   "source": [
    "# acceder a todos los elementos menos el último\n",
    "print(cadena4[:-1])"
   ]
  },
  {
   "cell_type": "code",
   "execution_count": null,
   "id": "fe69316e",
   "metadata": {},
   "outputs": [],
   "source": [
    "lista5 = ['a', 'b', 'c', 'd', 'e', 'f', 'g']\n",
    "print(lista5[-3:])\n"
   ]
  },
  {
   "cell_type": "code",
   "execution_count": null,
   "id": "360372a3",
   "metadata": {},
   "outputs": [],
   "source": [
    "#Podemos obtener la posicion de un caracter con index\n",
    "cadena4 = 'abcdefghijklmn'\n",
    "indice_c = cadena4.index('i') \n",
    "print(indice_c)"
   ]
  },
  {
   "cell_type": "code",
   "execution_count": null,
   "id": "af982126",
   "metadata": {},
   "outputs": [],
   "source": [
    "subcadena = cadena4[:indice_c]\n",
    "print(subcadena)"
   ]
  },
  {
   "cell_type": "code",
   "execution_count": null,
   "id": "616f7ba0",
   "metadata": {},
   "outputs": [],
   "source": [
    "subcadena = cadena4[:indice_c-3]\n",
    "print(subcadena)"
   ]
  },
  {
   "cell_type": "markdown",
   "id": "75b1f930",
   "metadata": {},
   "source": [
    "## Ejercicios !\n",
    "Teniendo la siguiente cadena \"cadena = \"abcdefg\" obtener:\n",
    "\n",
    "Tips:\n",
    "**cadena[ini:fin].**\n",
    "#obtenemos la subcadena desde el principio hasta la posición 10\n",
    "subcadena = cadena[:10]\n",
    "#obtenemos la subcadena desde la posición 10 hasta el final\n",
    "subcadena = cadena[10:]\n"
   ]
  },
  {
   "cell_type": "markdown",
   "id": "6d2cc586",
   "metadata": {},
   "source": [
    "1) Obtener solo \"b, c, d\""
   ]
  },
  {
   "cell_type": "code",
   "execution_count": null,
   "id": "353c2dcf",
   "metadata": {},
   "outputs": [],
   "source": [
    "cadena = \"abcdefg\""
   ]
  },
  {
   "cell_type": "markdown",
   "id": "c8981290",
   "metadata": {},
   "source": [
    "2) Obtener \"a, c, e\""
   ]
  },
  {
   "cell_type": "code",
   "execution_count": null,
   "id": "1b104258",
   "metadata": {},
   "outputs": [],
   "source": []
  },
  {
   "cell_type": "markdown",
   "id": "aa4279fa",
   "metadata": {},
   "source": [
    "3) Usando lo aprendido, como puedo obtener la cadena al revés?  gfedcba"
   ]
  },
  {
   "cell_type": "code",
   "execution_count": null,
   "id": "1b0e78d2",
   "metadata": {},
   "outputs": [],
   "source": []
  },
  {
   "cell_type": "markdown",
   "id": "62566584",
   "metadata": {},
   "source": [
    "4) obtener gec\n",
    "\n"
   ]
  },
  {
   "cell_type": "code",
   "execution_count": null,
   "id": "1667acd4",
   "metadata": {},
   "outputs": [],
   "source": []
  }
 ],
 "metadata": {
  "kernelspec": {
   "display_name": "Python 3",
   "language": "python",
   "name": "python3"
  },
  "language_info": {
   "codemirror_mode": {
    "name": "ipython",
    "version": 3
   },
   "file_extension": ".py",
   "mimetype": "text/x-python",
   "name": "python",
   "nbconvert_exporter": "python",
   "pygments_lexer": "ipython3",
   "version": "3.8.13"
  }
 },
 "nbformat": 4,
 "nbformat_minor": 5
}
